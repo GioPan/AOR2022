{
 "cells": [
  {
   "cell_type": "markdown",
   "id": "b0eeac9a-1c5f-4fa6-81a4-31e49897f49f",
   "metadata": {},
   "source": [
    "# Procurement Problem\n",
    "\n",
    "A company produces a product which requires a set of materials $\\mathcal{M}$.\n",
    "Producing one unit of the product consumes $W_m$ units of material $m$.\n",
    "The company has to satisfy a demand $D$ for the product and needs therefore\n",
    "to procure the underlying materials. For each material $m\\in\\mathcal{M}$ there exist a minimum and maximum procurement\n",
    "amonuts $Q^{MIN}_m$ and $Q^{MAX}_m$.\n",
    "Procuring one unit of material $m$ generates a cost $C_m$.\n",
    "The company wishes to satisfy the demand of the product at the least cost.\n",
    "\n",
    "The problem can be formulated as follows:\n",
    "$$\n",
    "\\begin{align*}\n",
    "  \\min~&\\sum_{m\\in \\mathcal{M}}C_mx_m\\\\\n",
    "  \\text{s.t.}~& x_m \\geq Q^{MIN}_m & m\\in \\mathcal{M}\\\\\n",
    "       & x_m \\leq Q^{MAX}_m & m\\in \\mathcal{M}\\\\\n",
    "       &\\sum_{m\\in\\mathcal{M}}W_mx_m\\geq D&\\\\\n",
    "       &x_m\\geq 0&m\\in\\mathcal{M}\n",
    "\\end{align*}\n",
    "$$\n",
    "\n",
    "- Q1. Identify the complicating constraint(s).\n",
    "- Q2. Provide an expression for the feasibility set of the subproblems (i.e., the sets $\\mathcal{S}_j$ of the lecture notes).\n",
    "- Q3. Provide the Dantzig-Wolfe reformulation where culumns represent solutions to individual subproblems.\n",
    "- Q4. Provide the expression of a column.\n",
    "- Q5. Assume now that we want to use culumns that represent combined solutions to all subproblems. Provide the expression of a column and the corresponding fomulation of the RMP.\n",
    "- Q6. Under the assumption of Q5, provide the formulation of the subproblems.\n",
    "- Q7. Under the assumption of Q5, provide the optimality criterion.\n",
    "- Q8. A class for the procurement problem is provided below. The constructor of the class generates random instances of the problem, given a seed. Solve given instance of the problem by DW decomposition.\n",
    "- Q9. Check that the solution in Q8 is correct by comparing it to that of the non-decomposed model.\n",
    "\n"
   ]
  },
  {
   "cell_type": "markdown",
   "id": "93f8b74d-d883-4b3b-b79c-c6ef52c99014",
   "metadata": {},
   "source": [
    "## Data"
   ]
  },
  {
   "cell_type": "code",
   "execution_count": 43,
   "id": "6c5ea609-2976-4d80-a9ba-2573b753439a",
   "metadata": {},
   "outputs": [],
   "source": [
    "import random as r\n",
    "class ProcurementProblem:\n",
    "    \"\"\"\n",
    "    Class representing the Procurement Problem.\n",
    "    An instance of this class contains the data for an instance of\n",
    "    the procurement problem.\n",
    "    \"\"\"\n",
    "\n",
    "    def __init__(self,n_materials:int,seed:int=1):\n",
    "        \"\"\"\n",
    "        Creates an instance of the production problem.\n",
    "        \"\"\"\n",
    "        self.n_materials = n_materials\n",
    "        r.seed(seed)\n",
    "        self.costs = {i: (0 + 10 * r.random()) for i in range(self.n_materials)}\n",
    "        self.demand = 100 + 50 * r.random()\n",
    "        self.consumption = {i: ((100/self.n_materials) + 50 * r.random()) for i in range(self.n_materials)}\n",
    "        self.min_procurement = [0 for i in range(self.n_materials)]\n",
    "        self.max_procurement = [(20 + 5 * r.random()) for i in range(self.n_materials)]\n",
    "        \n",
    "pp = ProcurementProblem(15)  "
   ]
  }
 ],
 "metadata": {
  "kernelspec": {
   "display_name": "Python 3 (ipykernel)",
   "language": "python",
   "name": "python3"
  },
  "language_info": {
   "codemirror_mode": {
    "name": "ipython",
    "version": 3
   },
   "file_extension": ".py",
   "mimetype": "text/x-python",
   "name": "python",
   "nbconvert_exporter": "python",
   "pygments_lexer": "ipython3",
   "version": "3.8.13"
  }
 },
 "nbformat": 4,
 "nbformat_minor": 5
}
