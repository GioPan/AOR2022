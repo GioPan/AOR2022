{
 "cells": [
  {
   "cell_type": "markdown",
   "id": "57cf29fe-fef5-4a76-844d-443139b62885",
   "metadata": {},
   "source": [
    "# Diet Problem Large Scale\n",
    "We wish to minimize the cost of meeting our daily requirements of a set of nutrients $\\mathcal{N}$, with a diet restricted to a set of foods $\\mathcal{F}$. \n",
    "Each food $f\\in\\mathcal{F}$ has a given cost per weight unit, $C_f$, and at most $U_f$ units are available. Furthermore, each food $f\\in\\mathcal{F}$ provides a given quantity $A_{fn}$ of nutrient $n\\in\\mathcal{N}$ and our daily diet requires at least a quantity $R_n$ of nutrient $n$. Finally, there are two special subset of foods $\\mathcal{F}^A$ and $\\mathcal{F}^B$: if any of the foods in $\\mathcal{F}^A$ is consumed, then one can consume at most $B$, in total, of the foods in $\\mathcal{F}^B$. \n",
    "\n",
    "- Provide a mathematical formulation of the problem\n",
    "- Find a solution to the problem using Gurobi\n"
   ]
  },
  {
   "cell_type": "markdown",
   "id": "7e339dc5-536a-4931-9e2f-836efaef8770",
   "metadata": {},
   "source": [
    "## Instance"
   ]
  },
  {
   "cell_type": "code",
   "execution_count": 1,
   "id": "96d208ae-f0b3-44f3-ae7f-c72897aecbd6",
   "metadata": {},
   "outputs": [],
   "source": [
    "import random as r\n",
    "r.seed(1)\n",
    "n_foods = 50\n",
    "n_nutrients = 10\n",
    "content = {(f,n): 100 + 20 * r.random() for f in range(n_foods) for n in range(n_nutrients)}\n",
    "requirement = [10 + 200 * r.random() for n in range(n_nutrients)]\n",
    "costs = [50 + 50 * r.random() for f in range(n_foods)]\n",
    "max_amount = [20 + 40 * r.random() for f in range(n_foods)]\n",
    "foods_a = [f for f in range(n_foods) if r.random() > 0.9]\n",
    "foods_b = [f for f in range(n_foods) if (r.random() > 0.8) and f not in foods_a]\n",
    "max_b = r.randint(50,70)"
   ]
  },
  {
   "cell_type": "markdown",
   "id": "e7709c03-243f-4f6c-9c14-a1837579e17d",
   "metadata": {},
   "source": [
    "# Solution"
   ]
  },
  {
   "cell_type": "markdown",
   "id": "540fab4a-61e7-4dfa-a50e-9531590f24b1",
   "metadata": {
    "tags": []
   },
   "source": [
    "Let $x_f$ be the amount of food $f$ consumed, $y_f$ an indicator variable which takes value $1$ if food $f$ is consumed, $0$ otherwise, $z^A$ an indicator variable taking value $1$ if any food in $\\mathcal{F}^A$ is consumed.\n",
    "$$\n",
    "\\begin{align*}\n",
    "  \\min ~& \\sum_{f\\in\\mathcal{F}}C_fx_f \\\\\n",
    "  s.t. ~& \\sum_{f\\in\\mathcal{F}}A_{fn}x_f\\geq R_n & \\forall n\\in \\mathcal{N} \\\\\n",
    "   & x_f\\leq U_fy_f& \\forall f\\in\\mathcal{F} \\\\\n",
    "   & y_{f} \\leq z^A & \\forall f \\in \\mathcal{F}^A\\\\\n",
    "   & \\sum_{f\\in\\mathcal{F}^B}x_f + Mz^a\\leq B+M\\\\\n",
    "   & x_f\\geq 0 & \\forall f\\in \\mathcal{F}\\\\\n",
    "   &y_f \\in\\{0,1\\}& \\forall f\\in \\mathcal{F}\\\\\n",
    "   &z^A \\in \\{0,1\\}\n",
    "\\end{align*}\n",
    "$$\n",
    "Here $M$ is a constant whose value can be $M=\\sum_{f\\in\\mathcal{F}^B}U_f-B$."
   ]
  },
  {
   "cell_type": "markdown",
   "id": "3a525a61-926a-4c83-856a-a7aa655f2f5b",
   "metadata": {},
   "source": [
    "## Problem class\n",
    "It is good practice to divide the code into individual specialized units which in turn allow high reusability and scalability. To do this we will use the Object Oriented paradigm where objects represent individual units and classes represent templates for objects of the same type. \n",
    "In this spirit we will create a *class* which models the optimization problem we are solving: not the mathematical problem, but the real life problem, with its constituting elements (e.g, the diet problem, made of foods, nutrients, costs, etc.). An *object* of a class represents a specific instance of the problem (e.g., a diet problem with meat and vegetables as foods, vitamins and proteins as nutrients and a specific value for the parameters). \n",
    "\n",
    "Let us start by creating a class for the diet problem we described above."
   ]
  },
  {
   "cell_type": "code",
   "execution_count": 2,
   "id": "0925c3ee-5b12-4200-9eff-a615e149e55a",
   "metadata": {},
   "outputs": [],
   "source": [
    "class DietProblem:\n",
    "    \n",
    "    def __init__(self,n_foods:int,n_nutrients:int,\n",
    "                 costs:list,max_amount:list,\n",
    "                 requirements:list, content:dict,\n",
    "                 foods_a:list,foods_b:list,max_b:int):\n",
    "        self.n_foods = n_foods\n",
    "        self.n_nutrients = n_nutrients\n",
    "        self.costs = costs\n",
    "        self.max_amount = max_amount\n",
    "        self.requirements = requirements\n",
    "        self.content = content\n",
    "        self.foods_a = foods_a\n",
    "        self.foods_b = foods_b\n",
    "        self.max_b = max_b"
   ]
  },
  {
   "cell_type": "markdown",
   "id": "9a19fb76-5b82-4990-8bdb-0f19b93a9ff3",
   "metadata": {},
   "source": [
    "In this simple version, the class does nothing else than storing the data of the problem. This is particularly advantageous if we need to pass the data to several places (as we will see when we implement algorithms): we can pass an object of this class instead of all the different lists and dictionaries. In addition, in more complicated circumstances, the constructor of a class (the `__init__()` method) may do additional operations such as generating additional parameters from the ones passed as input. "
   ]
  },
  {
   "cell_type": "markdown",
   "id": "65e6f1eb-aa8b-480f-96a5-a8311fbf1c87",
   "metadata": {},
   "source": [
    "Let us now create an instance of the `DietProblem` class."
   ]
  },
  {
   "cell_type": "code",
   "execution_count": 4,
   "id": "8f7a3e42-3e70-4240-8f49-47987737eaaa",
   "metadata": {},
   "outputs": [
    {
     "data": {
      "text/plain": [
       "(50,\n",
       " 56,\n",
       " [74.61495664458549,\n",
       "  82.38341209210915,\n",
       "  68.87791059255065,\n",
       "  60.19570252183399,\n",
       "  50.19378289387779,\n",
       "  63.881062580471095,\n",
       "  79.90820993568305,\n",
       "  94.08314665353481,\n",
       "  91.4710624994265,\n",
       "  75.54801039355965,\n",
       "  99.35090725247136,\n",
       "  73.07904869349017,\n",
       "  91.72967430834191,\n",
       "  70.44826706404857,\n",
       "  87.23153088693658,\n",
       "  99.37958456113408,\n",
       "  65.26682961839882,\n",
       "  58.51564126066421,\n",
       "  81.00168543638304,\n",
       "  76.54780901870173,\n",
       "  67.97110159925771,\n",
       "  50.17596210485256,\n",
       "  69.45813208049022,\n",
       "  71.29347360518301,\n",
       "  70.26260358691596,\n",
       "  93.06226544887753,\n",
       "  79.2214013541066,\n",
       "  86.69153962265838,\n",
       "  94.89545858185552,\n",
       "  87.43867317875689,\n",
       "  74.63510259525235,\n",
       "  87.28841701434231,\n",
       "  82.0177700247632,\n",
       "  82.43727173316702,\n",
       "  81.48376793443275,\n",
       "  70.34994874942464,\n",
       "  81.4631015643794,\n",
       "  81.68662554728138,\n",
       "  96.85589797694888,\n",
       "  89.12368426854115,\n",
       "  92.31340333005454,\n",
       "  88.37498950712862,\n",
       "  90.76629309955143,\n",
       "  80.27311973651054,\n",
       "  67.47250441933419,\n",
       "  63.22916291590682,\n",
       "  85.40100135324147,\n",
       "  93.69710374065951,\n",
       "  77.212337890144,\n",
       "  57.60349834787501])"
      ]
     },
     "execution_count": 4,
     "metadata": {},
     "output_type": "execute_result"
    }
   ],
   "source": [
    "p = DietProblem(n_foods,n_nutrients,costs,max_amount,requirement,content,foods_a,foods_b,max_b)\n",
    "p.n_foods, p.max_b, p.costs"
   ]
  },
  {
   "cell_type": "code",
   "execution_count": 6,
   "id": "909d1ad9-93a3-4d8b-9ef7-24a109fe4546",
   "metadata": {},
   "outputs": [
    {
     "data": {
      "text/plain": [
       "(50,\n",
       " 56,\n",
       " [72.58725507516019,\n",
       "  60.949855145225094,\n",
       "  62.34584740381881,\n",
       "  73.76023287617747,\n",
       "  63.25454434790798,\n",
       "  60.803147416001266,\n",
       "  41.21073481345724,\n",
       "  79.19139082181962,\n",
       "  79.645518449344,\n",
       "  69.72714309603927,\n",
       "  47.998967877135236,\n",
       "  55.569541311585205,\n",
       "  52.96881529610756,\n",
       "  56.38011614840605,\n",
       "  45.054670147569674,\n",
       "  42.59451480018336,\n",
       "  52.0198454901423,\n",
       "  71.95857007834823,\n",
       "  61.34727129746978,\n",
       "  56.703529148793514,\n",
       "  52.75197218436483,\n",
       "  50.90677569070121,\n",
       "  69.94946114674622,\n",
       "  60.80410435827281,\n",
       "  40.344454206862565,\n",
       "  44.87455938719406,\n",
       "  52.684431050544376,\n",
       "  69.07222906517175,\n",
       "  71.38826707826985,\n",
       "  62.9243996944565,\n",
       "  58.07255058867084,\n",
       "  51.18449106207426,\n",
       "  58.16568580653808,\n",
       "  54.566616394405735,\n",
       "  69.66549127392534,\n",
       "  55.221109037288805,\n",
       "  75.58327732248402,\n",
       "  43.1268146402506,\n",
       "  63.15869772474994,\n",
       "  42.2440240188185,\n",
       "  41.9490455161666,\n",
       "  59.686900846840146,\n",
       "  74.12397503629253,\n",
       "  50.07674121378319,\n",
       "  49.81459698167926,\n",
       "  62.9513552029875,\n",
       "  53.5459546332293,\n",
       "  79.62417123982715,\n",
       "  71.87641967639354,\n",
       "  54.805392444901045])"
      ]
     },
     "execution_count": 6,
     "metadata": {},
     "output_type": "execute_result"
    }
   ],
   "source": [
    "new_costs = [40 + 40 * r.random() for f in range(n_foods)]\n",
    "p2 = DietProblem(n_foods,n_nutrients,new_costs,max_amount,requirement,content,foods_a,foods_b,max_b)\n",
    "p2.n_foods, p2.max_b, p2.costs"
   ]
  },
  {
   "cell_type": "markdown",
   "id": "ecd78fbb-8832-4686-8a43-9121daf3cd0d",
   "metadata": {},
   "source": [
    "Now all the data is stored in the object `p`. If we needed to work with two different diet problems, with different data, we could simply create two instances of the `DietProblem` class, say `p1` and `p2`."
   ]
  },
  {
   "cell_type": "markdown",
   "id": "72a2ae72-3f57-4c9f-b742-5c8aa55d9ec0",
   "metadata": {},
   "source": [
    "## Model class\n",
    "In a similar way we create a class which represents the template of a model for the diet problem. \n",
    "Its constructor will take as input an instance of the `DietProblem` class and generate its mathematical model. \n",
    "Let us start by importing some useful stuff."
   ]
  },
  {
   "cell_type": "code",
   "execution_count": 7,
   "id": "5a0cab26-426f-4d79-916f-3b67e694d016",
   "metadata": {},
   "outputs": [],
   "source": [
    "from gurobipy import GRB, Model, quicksum"
   ]
  },
  {
   "cell_type": "code",
   "execution_count": 8,
   "id": "032caace-ce4a-47cb-aab8-04e30e01c56f",
   "metadata": {},
   "outputs": [],
   "source": [
    "class DietProblemModel:\n",
    "    \n",
    "    def __init__(self,p:DietProblem):\n",
    "        self.m = Model('diet_problem')\n",
    "        self.p = p\n",
    "\n",
    "        # Create the variables\n",
    "        self.x = self.m.addVars(self.p.n_foods,lb=0,ub=GRB.INFINITY,vtype=GRB.CONTINUOUS,name=\"x\")\n",
    "        self.y = self.m.addVars(self.p.n_foods,vtype=GRB.BINARY,name=\"y\")\n",
    "        self.z = self.m.addVar(vtype=GRB.BINARY,name=\"z\")\n",
    "        \n",
    "        # Create the objective function\n",
    "        self.m.setObjective(self.x.prod(self.p.costs),sense= GRB.MINIMIZE)\n",
    "\n",
    "        # Create the constraints. \n",
    "        self.m.addConstrs(\n",
    "            quicksum([self.p.content[f,n] * self.x[n] for f in range(self.p.n_foods)])\n",
    "            >= self.p.requirements[n] for n in range(self.p.n_nutrients))\n",
    "        self.m.addConstrs(self.x[f] <= self.p.max_amount[f] * self.y[f] for f in range(self.p.n_foods))\n",
    "        self.m.addConstrs(self.y[f] <= self.z for f in self.p.foods_a)\n",
    "        # We calculate M\n",
    "        M = sum([self.p.max_amount[f] for f in self.p.foods_b]) - self.p.max_b\n",
    "        self.m.addConstr(quicksum([self.x[f] for f in self.p.foods_b]) + M * self.z <= self.p.max_b + M)\n",
    "\n",
    "    def solve(self):\n",
    "        self.m.optimize()\n",
    "    \n",
    "    def print_solution(self):\n",
    "        print('Objective value: %g' % self.m.objVal)\n",
    "        for f in range(self.p.n_foods):\n",
    "            print('food %g: quantity %g, used %g' % (f, self.x[f].x, self.y[f].x))\n",
    "        print('Used foods from set A? %g' %  (self.z.x))\n"
   ]
  },
  {
   "cell_type": "markdown",
   "id": "4707de58-49c8-41d4-b7ed-08af8fa7350a",
   "metadata": {},
   "source": [
    "We can now create a model for a specific instance of the diet problem"
   ]
  },
  {
   "cell_type": "code",
   "execution_count": 109,
   "id": "b62795a7-3675-4d05-99f5-f9e97aeecbac",
   "metadata": {},
   "outputs": [],
   "source": [
    "m = DietProblemModel(p)"
   ]
  },
  {
   "cell_type": "code",
   "execution_count": 110,
   "id": "3d1252e8-0864-4bd0-9945-ae28da2c1c68",
   "metadata": {},
   "outputs": [
    {
     "name": "stdout",
     "output_type": "stream",
     "text": [
      "Gurobi Optimizer version 9.5.1 build v9.5.1rc2 (linux64)\n",
      "Thread count: 128 physical cores, 128 logical processors, using up to 32 threads\n",
      "Academic license - for non-commercial use only - registered to gp@math.ku.dk\n",
      "Optimize a model with 65 rows, 101 columns and 130 nonzeros\n",
      "Model fingerprint: 0x05904a9d\n",
      "Variable types: 50 continuous, 51 integer (51 binary)\n",
      "Coefficient statistics:\n",
      "  Matrix range     [1e+00, 6e+03]\n",
      "  Objective range  [5e+01, 1e+02]\n",
      "  Bounds range     [1e+00, 1e+00]\n",
      "  RHS range        [1e+01, 4e+02]\n",
      "Presolve removed 65 rows and 101 columns\n",
      "Presolve time: 0.00s\n",
      "Presolve: All rows and columns removed\n",
      "\n",
      "Explored 0 nodes (0 simplex iterations) in 0.01 seconds (0.00 work units)\n",
      "Thread count was 1 (of 128 available processors)\n",
      "\n",
      "Solution count 1: 13.7015 \n",
      "\n",
      "Optimal solution found (tolerance 1.00e-04)\n",
      "Best objective 1.370146303512e+01, best bound 1.370146303512e+01, gap 0.0000%\n"
     ]
    }
   ],
   "source": [
    "m.solve()"
   ]
  },
  {
   "cell_type": "code",
   "execution_count": 111,
   "id": "e0884923-fc92-44be-96cf-ed2c82495370",
   "metadata": {},
   "outputs": [
    {
     "name": "stdout",
     "output_type": "stream",
     "text": [
      "Objective value: 13.7015\n",
      "food 0: quantity 0.0200819, used 1\n",
      "food 1: quantity 0.0148526, used 1\n",
      "food 2: quantity 0.0211277, used 1\n",
      "food 3: quantity 0.00184519, used 1\n",
      "food 4: quantity 0.0178834, used 1\n",
      "food 5: quantity 0.0180968, used 1\n",
      "food 6: quantity 0.0128106, used 1\n",
      "food 7: quantity 0.0165215, used 1\n",
      "food 8: quantity 0.0303572, used 1\n",
      "food 9: quantity 0.0265339, used 1\n",
      "food 10: quantity 0, used 1\n",
      "food 11: quantity 0, used 1\n",
      "food 12: quantity 0, used 1\n",
      "food 13: quantity 0, used 1\n",
      "food 14: quantity 0, used 1\n",
      "food 15: quantity 0, used 1\n",
      "food 16: quantity 0, used 1\n",
      "food 17: quantity 0, used 1\n",
      "food 18: quantity 0, used 1\n",
      "food 19: quantity 0, used 1\n",
      "food 20: quantity 0, used 1\n",
      "food 21: quantity 0, used 1\n",
      "food 22: quantity 0, used 1\n",
      "food 23: quantity 0, used 1\n",
      "food 24: quantity 0, used 1\n",
      "food 25: quantity 0, used 1\n",
      "food 26: quantity 0, used 1\n",
      "food 27: quantity 0, used 1\n",
      "food 28: quantity 0, used 1\n",
      "food 29: quantity 0, used 1\n",
      "food 30: quantity 0, used 0\n",
      "food 31: quantity 0, used 1\n",
      "food 32: quantity 0, used 1\n",
      "food 33: quantity 0, used 1\n",
      "food 34: quantity 0, used 1\n",
      "food 35: quantity 0, used 1\n",
      "food 36: quantity 0, used 1\n",
      "food 37: quantity 0, used 1\n",
      "food 38: quantity 0, used 1\n",
      "food 39: quantity 0, used 1\n",
      "food 40: quantity 0, used 1\n",
      "food 41: quantity 0, used 1\n",
      "food 42: quantity 0, used 1\n",
      "food 43: quantity 0, used 1\n",
      "food 44: quantity 0, used 1\n",
      "food 45: quantity 0, used 1\n",
      "food 46: quantity 0, used 1\n",
      "food 47: quantity 0, used 1\n",
      "food 48: quantity 0, used 1\n",
      "food 49: quantity 0, used 0\n",
      "Used foods from set A? 1\n"
     ]
    }
   ],
   "source": [
    "m.print_solution()"
   ]
  },
  {
   "cell_type": "code",
   "execution_count": 9,
   "id": "b118d497-b5ca-4c34-b9e7-ee5ab8023683",
   "metadata": {},
   "outputs": [
    {
     "name": "stdout",
     "output_type": "stream",
     "text": [
      "Restricted license - for non-production use only - expires 2023-10-25\n"
     ]
    }
   ],
   "source": [
    "m2 = DietProblemModel(p2)"
   ]
  },
  {
   "cell_type": "code",
   "execution_count": 10,
   "id": "98721af6-ef21-45ba-a662-16e049630a5c",
   "metadata": {},
   "outputs": [
    {
     "name": "stdout",
     "output_type": "stream",
     "text": [
      "Gurobi Optimizer version 9.5.1 build v9.5.1rc2 (linux64)\n",
      "Thread count: 128 physical cores, 128 logical processors, using up to 32 threads\n",
      "Optimize a model with 65 rows, 101 columns and 130 nonzeros\n",
      "Model fingerprint: 0xdef2bbc3\n",
      "Variable types: 50 continuous, 51 integer (51 binary)\n",
      "Coefficient statistics:\n",
      "  Matrix range     [1e+00, 6e+03]\n",
      "  Objective range  [4e+01, 8e+01]\n",
      "  Bounds range     [1e+00, 1e+00]\n",
      "  RHS range        [1e+01, 4e+02]\n",
      "Presolve removed 65 rows and 101 columns\n",
      "Presolve time: 0.05s\n",
      "Presolve: All rows and columns removed\n",
      "\n",
      "Explored 0 nodes (0 simplex iterations) in 0.10 seconds (0.00 work units)\n",
      "Thread count was 1 (of 128 available processors)\n",
      "\n",
      "Solution count 1: 12.1521 \n",
      "\n",
      "Optimal solution found (tolerance 1.00e-04)\n",
      "Best objective 1.215207829636e+01, best bound 1.215207829636e+01, gap 0.0000%\n"
     ]
    }
   ],
   "source": [
    "m2.solve()"
   ]
  },
  {
   "cell_type": "code",
   "execution_count": 11,
   "id": "4b7fb4a9-eb64-4336-9264-5a5c996e8a8d",
   "metadata": {},
   "outputs": [
    {
     "name": "stdout",
     "output_type": "stream",
     "text": [
      "Objective value: 12.1521\n",
      "food 0: quantity 0.0200819, used 1\n",
      "food 1: quantity 0.0148526, used 1\n",
      "food 2: quantity 0.0211277, used 1\n",
      "food 3: quantity 0.00184519, used 1\n",
      "food 4: quantity 0.0178834, used 1\n",
      "food 5: quantity 0.0180968, used 1\n",
      "food 6: quantity 0.0128106, used 1\n",
      "food 7: quantity 0.0165215, used 1\n",
      "food 8: quantity 0.0303572, used 1\n",
      "food 9: quantity 0.0265339, used 1\n",
      "food 10: quantity 0, used 1\n",
      "food 11: quantity 0, used 1\n",
      "food 12: quantity 0, used 1\n",
      "food 13: quantity 0, used 1\n",
      "food 14: quantity 0, used 1\n",
      "food 15: quantity 0, used 1\n",
      "food 16: quantity 0, used 1\n",
      "food 17: quantity 0, used 1\n",
      "food 18: quantity 0, used 1\n",
      "food 19: quantity 0, used 1\n",
      "food 20: quantity 0, used 1\n",
      "food 21: quantity 0, used 1\n",
      "food 22: quantity 0, used 1\n",
      "food 23: quantity 0, used 1\n",
      "food 24: quantity 0, used 1\n",
      "food 25: quantity 0, used 1\n",
      "food 26: quantity 0, used 1\n",
      "food 27: quantity 0, used 1\n",
      "food 28: quantity 0, used 1\n",
      "food 29: quantity 0, used 1\n",
      "food 30: quantity 0, used 0\n",
      "food 31: quantity 0, used 1\n",
      "food 32: quantity 0, used 1\n",
      "food 33: quantity 0, used 1\n",
      "food 34: quantity 0, used 1\n",
      "food 35: quantity 0, used 1\n",
      "food 36: quantity 0, used 1\n",
      "food 37: quantity 0, used 1\n",
      "food 38: quantity 0, used 1\n",
      "food 39: quantity 0, used 1\n",
      "food 40: quantity 0, used 1\n",
      "food 41: quantity 0, used 1\n",
      "food 42: quantity 0, used 1\n",
      "food 43: quantity 0, used 1\n",
      "food 44: quantity 0, used 1\n",
      "food 45: quantity 0, used 1\n",
      "food 46: quantity 0, used 1\n",
      "food 47: quantity 0, used 1\n",
      "food 48: quantity 0, used 1\n",
      "food 49: quantity 0, used 0\n",
      "Used foods from set A? 1\n"
     ]
    }
   ],
   "source": [
    "m2.print_solution()"
   ]
  },
  {
   "cell_type": "code",
   "execution_count": null,
   "id": "40071602-828c-47db-927f-54030f21e7d7",
   "metadata": {},
   "outputs": [],
   "source": []
  }
 ],
 "metadata": {
  "kernelspec": {
   "display_name": "Python 3 (ipykernel)",
   "language": "python",
   "name": "python3"
  },
  "language_info": {
   "codemirror_mode": {
    "name": "ipython",
    "version": 3
   },
   "file_extension": ".py",
   "mimetype": "text/x-python",
   "name": "python",
   "nbconvert_exporter": "python",
   "pygments_lexer": "ipython3",
   "version": "3.8.13"
  }
 },
 "nbformat": 4,
 "nbformat_minor": 5
}
