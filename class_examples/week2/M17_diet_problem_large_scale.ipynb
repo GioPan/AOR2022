{
 "cells": [
  {
   "cell_type": "markdown",
   "id": "57cf29fe-fef5-4a76-844d-443139b62885",
   "metadata": {},
   "source": [
    "# Diet Problem Large Scale\n",
    "We wish to minimize the cost of meeting our daily requirements of a set of nutrients $\\mathcal{N}$, with a diet restricted to a set of foods $\\mathcal{F}$. \n",
    "Each food $f\\in\\mathcal{F}$ has a given cost per weight unit, $C_f$, and at most $U_f$ units are available. Furthermore, each food $f\\in\\mathcal{F}$ provides a given quantity $A_{fn}$ of nutrient $n\\in\\mathcal{N}$ and our daily diet requires at least a quantity $R_n$ of nutrient $n$. Finally, there are two special subset of foods $\\mathcal{F}^A$ and $\\mathcal{F}^B$: if any of the foods in $\\mathcal{F}^A$ is consumed, then one can consume at most $B$, in total, of the foods in $\\mathcal{F}^B$. \n",
    "\n",
    "- Provide a mathematical formulation of the problem\n",
    "- Find a solution to the problem using Gurobi\n"
   ]
  },
  {
   "cell_type": "markdown",
   "id": "7e339dc5-536a-4931-9e2f-836efaef8770",
   "metadata": {},
   "source": [
    "## Instance"
   ]
  },
  {
   "cell_type": "code",
   "execution_count": 90,
   "id": "96d208ae-f0b3-44f3-ae7f-c72897aecbd6",
   "metadata": {},
   "outputs": [],
   "source": [
    "import random as r\n",
    "r.seed(1)\n",
    "n_foods = 50\n",
    "n_nutrients = 10\n",
    "content = {(f,n): 100 + 20 * r.random() for f in range(n_foods) for n in range(n_nutrients)}\n",
    "requirement = [10 + 200 * r.random() for n in range(n_nutrients)]\n",
    "costs = [50 + 50 * r.random() for f in range(n_foods)]\n",
    "max_amount = [20 + 40 * r.random() for f in range(n_foods)]\n",
    "foods_a = [f for f in range(n_foods) if r.random() > 0.9]\n",
    "foods_b = [f for f in range(n_foods) if (r.random() > 0.8) and f not in foods_a]\n",
    "max_b = r.randint(50,70)"
   ]
  },
  {
   "cell_type": "markdown",
   "id": "e7709c03-243f-4f6c-9c14-a1837579e17d",
   "metadata": {},
   "source": [
    "# Solution"
   ]
  }
 ],
 "metadata": {
  "kernelspec": {
   "display_name": "Python 3 (ipykernel)",
   "language": "python",
   "name": "python3"
  },
  "language_info": {
   "codemirror_mode": {
    "name": "ipython",
    "version": 3
   },
   "file_extension": ".py",
   "mimetype": "text/x-python",
   "name": "python",
   "nbconvert_exporter": "python",
   "pygments_lexer": "ipython3",
   "version": "3.8.13"
  }
 },
 "nbformat": 4,
 "nbformat_minor": 5
}
