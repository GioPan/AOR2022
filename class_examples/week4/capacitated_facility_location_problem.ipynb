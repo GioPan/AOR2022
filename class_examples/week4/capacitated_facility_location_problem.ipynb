{
 "cells": [
  {
   "cell_type": "markdown",
   "id": "f3ec5362-f95f-4b18-b912-396cf0824fb9",
   "metadata": {},
   "source": [
    "# Capacitated Facility Location Problem\n",
    "Consider the Capacitated Facility Location Problem introduced in Chapter 7 of the Benders Decomposition lecture notes. An instance of the problem is provided below together with a class for the problem and a class for the full model.\n",
    "- Q1 Solve the instance of the problem using Benders decomposition\n",
    "- Q2 Compare its solution to that of the non-decomposed problem to ensure it is correct."
   ]
  },
  {
   "cell_type": "markdown",
   "id": "9f3e33a1-7673-46d6-bb2b-b1d98a1d9640",
   "metadata": {},
   "source": [
    "## Data"
   ]
  },
  {
   "cell_type": "code",
   "execution_count": 1,
   "id": "84e4acc8-805d-4480-bed4-c9e208d0dbe6",
   "metadata": {},
   "outputs": [],
   "source": [
    "import random as r\n",
    "n_locations = 15\n",
    "n_customers = 30\n",
    "\n",
    "r.seed(1)\n",
    "# Random fixed costs between 100 and 300\n",
    "fixed_costs = [(100 + (r.random() * 200)) for i in range(n_locations)]\n",
    "\n",
    "# Random delivery costs between 10 and 40\n",
    "delivery_costs = {(i,j):(10 + (r.random() * 30)) for j in range(n_customers) for i in range(n_locations)}\n",
    "\n",
    "# Random demands between 50 and 100\n",
    "demands = [(50 + (r.random() * 50)) for j in range(n_customers)]\n",
    "\n",
    "# Random capacities between 100 and 140\n",
    "capacities = [(150 + (r.random() * 50)) for i in range(n_locations)]\n"
   ]
  },
  {
   "cell_type": "markdown",
   "id": "13d6349c-fc67-4109-975e-54a5a72990f3",
   "metadata": {},
   "source": [
    "## Class for the Facility Location Problem."
   ]
  },
  {
   "cell_type": "code",
   "execution_count": 2,
   "id": "bf8ff203-3297-4f4a-aa8f-fbfb8657d03d",
   "metadata": {},
   "outputs": [],
   "source": [
    "class FacilityLocationProblem:\n",
    "\n",
    "    def __init__(self,n_facilities,n_customers,fixed_costs,delivery_costs,demands,capacity):\n",
    "        self.n_facilities = n_facilities\n",
    "        self.n_customers = n_customers\n",
    "        self.fixed_costs = fixed_costs\n",
    "        self.delivery_costs = delivery_costs\n",
    "        self.demands = demands\n",
    "        self.capacity = capacity"
   ]
  },
  {
   "cell_type": "markdown",
   "id": "20e35587-133f-442d-b254-12fa45a10cfd",
   "metadata": {},
   "source": [
    "We can now create an instance of the Facility Location Problem"
   ]
  },
  {
   "cell_type": "code",
   "execution_count": 3,
   "id": "d5341b64-9794-4d36-a887-c6b14afbdc44",
   "metadata": {},
   "outputs": [],
   "source": [
    "flp = FacilityLocationProblem(n_locations, n_customers, fixed_costs, delivery_costs, demands, capacities)"
   ]
  },
  {
   "cell_type": "markdown",
   "id": "674e269f-a1ea-4a24-a3a6-ee3adf8596cf",
   "metadata": {},
   "source": [
    "## Class for the full model"
   ]
  },
  {
   "cell_type": "code",
   "execution_count": 4,
   "id": "d204e5f2-9cdb-4d4c-bd61-b50e6cfa24b7",
   "metadata": {},
   "outputs": [],
   "source": [
    "class FullModel:\n",
    "\n",
    "    def __init__(self, flp:FacilityLocationProblem):\n",
    "        self.flp = flp\n",
    "        self.m = Model()\n",
    "\n",
    "        # Creates the variables\n",
    "        self.y = self.m.addVars(flp.n_facilities, flp.n_customers, name=\"y\")\n",
    "        self.x = self.m.addVars(flp.n_facilities, vtype=GRB.BINARY, name=\"x\")\n",
    "\n",
    "        # Creates the objective\n",
    "        self.m.setObjective(self.x.prod(flp.fixed_costs) + self.y.prod(flp.delivery_costs), GRB.MINIMIZE)\n",
    "\n",
    "        # Constraints\n",
    "        \n",
    "        self.m.addConstrs(self.y.sum(i, '*') <= flp.capacity[i] * self.x[i] for i in range(flp.n_facilities))\n",
    "        self.m.addConstrs(self.y.sum('*', j) >= flp.demands[j] for j in range(flp.n_customers))\n",
    "\n",
    "    def solve(self):\n",
    "        self.m.optimize()\n",
    "\n",
    "    def print_solution(self):\n",
    "        for i in range(self.flp.n_facilities):\n",
    "            print('%s %g' % (self.x[i].varName, self.x[i].x))\n",
    "        print('Obj: %g' % self.m.objVal)\n"
   ]
  }
 ],
 "metadata": {
  "kernelspec": {
   "display_name": "Python 3 (ipykernel)",
   "language": "python",
   "name": "python3"
  },
  "language_info": {
   "codemirror_mode": {
    "name": "ipython",
    "version": 3
   },
   "file_extension": ".py",
   "mimetype": "text/x-python",
   "name": "python",
   "nbconvert_exporter": "python",
   "pygments_lexer": "ipython3",
   "version": "3.8.13"
  }
 },
 "nbformat": 4,
 "nbformat_minor": 5
}
