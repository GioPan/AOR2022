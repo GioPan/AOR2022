{
 "cells": [
  {
   "cell_type": "markdown",
   "id": "294c8e60-f72e-416f-b3bb-25e3e8cbb362",
   "metadata": {},
   "source": [
    "# Facility Sizing Problem\n",
    "\n",
    "Consider the Facility Sizing Problem described in Chapter 4 of the Benders Decomposition lecture notes.\n",
    "The data of an instance of the problem is provided below, together with a class that represents the problem and a class that represents the full (non-decomposed) model.\n",
    "- Q1. Solve the instance of the problem using Benders decomposition\n",
    "- Q2. Ensure that the solution obtained is the same as the one give by the non-decomposed model."
   ]
  },
  {
   "cell_type": "markdown",
   "id": "3cf3f74f-97ff-4917-b3a6-e131d6f1c2db",
   "metadata": {},
   "source": [
    "## Data of an instance"
   ]
  },
  {
   "cell_type": "code",
   "execution_count": 1,
   "id": "a3f92f59-ac4f-4400-bd91-943262be6311",
   "metadata": {},
   "outputs": [],
   "source": [
    "import random as r\n",
    "n_locations = 5\n",
    "n_customers = 5\n",
    "\n",
    "r.seed(1)\n",
    "# Random capacity costs between 100 and 300\n",
    "fixed_costs = [(100 + (r.random() * 200)) for i in range(n_locations)]\n",
    "\n",
    "# Random delivery costs between 10 and 40\n",
    "delivery_costs = {(i,j):(10 + r.random() * 30) for j in range(n_customers) for i in range(n_locations)}\n",
    "\n",
    "# Random demands between 50 and 100\n",
    "demands = [(50 + (r.random() * 50)) for j in range(n_customers)]\n",
    "\n",
    "# Random capacities between 100 and 140\n",
    "capacities = [(120 + (r.random() * 20)) for i in range(n_locations)]\n"
   ]
  },
  {
   "cell_type": "markdown",
   "id": "abceb6d0-ec9a-4a70-bc45-3cc29eae1d37",
   "metadata": {},
   "source": [
    "## Class for the Facility Sizing Problem"
   ]
  },
  {
   "cell_type": "code",
   "execution_count": 2,
   "id": "a7bbec0b-ff0f-4db1-ab61-2d002f10841c",
   "metadata": {},
   "outputs": [],
   "source": [
    "class FacilitySizingProblem:\n",
    "\n",
    "    def __init__(self,n_facilities:int,n_customers:int,fixed_costs:list,delivery_costs:dict,demands:list,capacity:list):\n",
    "        self.n_facilities = n_facilities\n",
    "        self.n_customers = n_customers\n",
    "        self.fixed_costs = fixed_costs\n",
    "        self.delivery_costs = delivery_costs\n",
    "        self.demands = demands\n",
    "        self.capacity = capacity\n",
    "        \n"
   ]
  },
  {
   "cell_type": "code",
   "execution_count": 3,
   "id": "13b3cac5-6497-40aa-b2b8-3a997717d24e",
   "metadata": {},
   "outputs": [],
   "source": [
    "p = FacilitySizingProblem(n_locations, n_customers, fixed_costs, delivery_costs, demands, capacities)"
   ]
  },
  {
   "cell_type": "markdown",
   "id": "4b01915f-9e32-4a78-bdd9-20d07d1f5639",
   "metadata": {},
   "source": [
    "## Class for the full model"
   ]
  },
  {
   "cell_type": "code",
   "execution_count": 4,
   "id": "04fdee13-bb7f-4c81-862c-b9bef12eef55",
   "metadata": {},
   "outputs": [],
   "source": [
    "from gurobipy import Model, GRB, quicksum"
   ]
  },
  {
   "cell_type": "code",
   "execution_count": 5,
   "id": "c45a3fcf-e764-4f49-b2bf-3aa379561b14",
   "metadata": {},
   "outputs": [],
   "source": [
    "class FullModel:\n",
    "\n",
    "    def __init__(self, fsp:FacilitySizingProblem):\n",
    "        self.fsp = fsp\n",
    "        self.m = Model()\n",
    "\n",
    "        # Creates the variables\n",
    "        self.y = self.m.addVars(fsp.n_facilities, fsp.n_customers, name=\"y\")\n",
    "        self.x = self.m.addVars(fsp.n_facilities, name=\"x\")\n",
    "\n",
    "        term1 = self.x.prod(fsp.fixed_costs)\n",
    "        term2 = self.y.prod(fsp.delivery_costs)\n",
    "        self.m.setObjective(term1+term2, GRB.MINIMIZE)\n",
    "\n",
    "        # Constraints\n",
    "\n",
    "        self.m.addConstrs(self.y.sum(i, '*') <= self.x[i] for i in range(fsp.n_facilities))\n",
    "        self.m.addConstrs(self.y.sum('*', j) >= fsp.demands[j] for j in range(fsp.n_customers))\n",
    "        self.m.addConstrs(self.x[i] <= self.fsp.capacity[i] for i in range(fsp.n_facilities))\n",
    "    \n",
    "\n",
    "    def solve(self):\n",
    "        self.m.optimize()\n",
    "\n",
    "    def print_solution(self):\n",
    "        for i in range(self.fsp.n_facilities):\n",
    "            print('%s %g' % (self.x[i].varName, self.x[i].x))\n",
    "        print('Obj: %g' % self.m.objVal)\n"
   ]
  }
 ],
 "metadata": {
  "kernelspec": {
   "display_name": "Python 3 (ipykernel)",
   "language": "python",
   "name": "python3"
  },
  "language_info": {
   "codemirror_mode": {
    "name": "ipython",
    "version": 3
   },
   "file_extension": ".py",
   "mimetype": "text/x-python",
   "name": "python",
   "nbconvert_exporter": "python",
   "pygments_lexer": "ipython3",
   "version": "3.8.13"
  }
 },
 "nbformat": 4,
 "nbformat_minor": 5
}
