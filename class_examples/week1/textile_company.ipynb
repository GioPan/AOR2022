{
 "cells": [
  {
   "cell_type": "markdown",
   "id": "792cf421-5680-4a7a-9846-3afd2e4bec5e",
   "metadata": {},
   "source": [
    "# Textile Company\n",
    "A textile company produces two types of fabric for the fashion industry, *plain* and *patterned* fabric.\n",
    "The fabrics are woven from wool on a loom and are finished by hand labor.\n",
    "A square meter of plain fabric requires $0.3$ Kg of wool, $6$ min of loom time, and $3$ hr of finishing\n",
    "labor; a square meeter of patterned fabric requires $0.5$ Kg of wool, $5$ min of loom time, and $5$ hr of finishing labor.\n",
    "\n",
    "For the next 3 months the company can procure up to 20 Kg of wool at the price of $\\$$ 3/Kg, 5 hr of loom time at the price of $\\$$ 3/minute, and 200 hr of labor at the price of $\\$$ 10/hour. \n",
    "The company realizes a $\\$$ 60/$m^2$ profit on the sale of plain fabric and a $\\$$ 65/ $m^2$ profit on the sale of patterned fabric.\n",
    "Assuming that all the fabric produced can be sold, determine how much of each type should the company produce in the next $3$ months, and how much inputs should be procured in order to maximize profits.\n",
    "\n",
    "\n",
    "- Provide a mathematical formulation for the instance of the problem described in the text\n",
    "- Find a solution using Gurobi"
   ]
  },
  {
   "cell_type": "markdown",
   "id": "57d01123-9aeb-44f9-9dd8-b20990c39360",
   "metadata": {},
   "source": [
    "We start by providing a mathematical formulation"
   ]
  },
  {
   "cell_type": "markdown",
   "id": "2487a68b-e035-4337-8ac1-b866330adf3c",
   "metadata": {},
   "source": [
    "Let $x_a$ and $x_b$ denote the amount of plain and patterned fabric to produce, respectively, in $m^2$, $y_w$ the amount of wool (in Kg) to purchase, $y_l$ the amount of loom time (in minutes) to commit, and $y_h$ the amount of hand-finishing labor (in hours) to procure. The profit will be $60x_a+65x_b-3y_w-3y_l-10y_h$ and the amounts to be produced are limited by constraints on the amount of labor, wool and loom time. Thus, the mathematical model will be:\n",
    "\n",
    "$$\n",
    "\\begin{align}\n",
    " \\max ~& 60x_a+65x_b-3y_w-3y_l-10y_h \\\\\n",
    " s.t. ~& 0.3x_a+0.5x_b\\leq y_w \\\\\n",
    "  & 6x_a+5x_b\\leq y_l \\\\\n",
    "  & 3x_a+5x_b\\leq y_h \\\\\n",
    "  & y_w \\leq 20 \\\\\n",
    "  & y_l \\leq 300 \\\\\n",
    "  & y_h \\leq 200 \\\\\n",
    "  & x_a,x_b, y_w, y_l, y_h\\geq 0\n",
    "\\end{align}\n",
    "$$\n",
    "The optimal solution has a profit of $\\$$ $555$ and consists of procuring $15$ Kg of wool, $300$ minutes of loom time and $150$ hours of labor time, and producing $50$ square meters of only plain fabric."
   ]
  },
  {
   "cell_type": "markdown",
   "id": "c18c788c-1951-4673-9afb-449d1c1ab77d",
   "metadata": {},
   "source": [
    "To implement the model in Gurobi we import the necessary stuff"
   ]
  },
  {
   "cell_type": "code",
   "execution_count": 1,
   "id": "7c4967e4-6f5f-4299-a8c5-a19d8b2b36f4",
   "metadata": {},
   "outputs": [],
   "source": [
    "from gurobipy import Model,GRB"
   ]
  },
  {
   "cell_type": "markdown",
   "id": "3407c20a-f3a0-439d-9e89-6281d07e0a4b",
   "metadata": {},
   "source": [
    "We create a Model object, which is a container for our mathematical model"
   ]
  },
  {
   "cell_type": "code",
   "execution_count": 2,
   "id": "646ce158-dd15-44a2-823a-bdbbfda5c96f",
   "metadata": {},
   "outputs": [
    {
     "name": "stdout",
     "output_type": "stream",
     "text": [
      "Restricted license - for non-production use only - expires 2023-10-25\n"
     ]
    }
   ],
   "source": [
    "m = Model('textile')"
   ]
  },
  {
   "cell_type": "markdown",
   "id": "3301466f-9cf7-488f-ae98-eb0ca38db12e",
   "metadata": {},
   "source": [
    "We add the variables to the model"
   ]
  },
  {
   "cell_type": "code",
   "execution_count": 3,
   "id": "cd9bbcce-e759-4a2b-9002-4b7835fdfa54",
   "metadata": {},
   "outputs": [],
   "source": [
    "xa = m.addVar(0,GRB.INFINITY,vtype=GRB.CONTINUOUS,name=\"xa\")\n",
    "xb = m.addVar(0,GRB.INFINITY,vtype=GRB.CONTINUOUS,name=\"xb\")\n",
    "yw = m.addVar(0,GRB.INFINITY,vtype=GRB.CONTINUOUS,name=\"yw\")\n",
    "yl = m.addVar(0,GRB.INFINITY,vtype=GRB.CONTINUOUS,name=\"yl\")\n",
    "yh = m.addVar(0,GRB.INFINITY,vtype=GRB.CONTINUOUS,name=\"yh\")"
   ]
  },
  {
   "cell_type": "markdown",
   "id": "1eed7ee4-5bb5-4528-b7a7-718b7d3b283b",
   "metadata": {},
   "source": [
    "Then the objective"
   ]
  },
  {
   "cell_type": "code",
   "execution_count": 4,
   "id": "98d44300-0071-41af-978c-882d287008b0",
   "metadata": {},
   "outputs": [],
   "source": [
    "m.setObjective(60 * xa + 65 * xb - 3 * yw - 3 * yl - 10 * yh, sense= GRB.MAXIMIZE )"
   ]
  },
  {
   "cell_type": "markdown",
   "id": "9145bfc4-2fec-4295-b744-5f52b5c7fc9c",
   "metadata": {},
   "source": [
    "The constraints"
   ]
  },
  {
   "cell_type": "code",
   "execution_count": 5,
   "id": "4ef7fe13-ce8c-4af5-996c-cbf048b22aaa",
   "metadata": {},
   "outputs": [
    {
     "data": {
      "text/plain": [
       "<gurobi.Constr *Awaiting Model Update*>"
      ]
     },
     "execution_count": 5,
     "metadata": {},
     "output_type": "execute_result"
    }
   ],
   "source": [
    "constr1 = m.addConstr(0.3 * xa + 0.5 * xb - yw , sense= GRB.LESS_EQUAL, rhs=0)\n",
    "m.addConstr(6 * xa + 5 * xb <= yl)\n",
    "m.addConstr(3 * xa + 5 * xb <= yh)\n",
    "m.addConstr(yw <= 20)\n",
    "m.addConstr(yl <= 300)\n",
    "m.addConstr(yh <= 200)"
   ]
  },
  {
   "cell_type": "markdown",
   "id": "fa44f3d0-3f05-442c-aaba-dd1250dd162a",
   "metadata": {},
   "source": [
    "We solve the model"
   ]
  },
  {
   "cell_type": "code",
   "execution_count": 6,
   "id": "23b0429d-37c1-4819-b2c0-3c8f2582b9cd",
   "metadata": {},
   "outputs": [
    {
     "name": "stdout",
     "output_type": "stream",
     "text": [
      "Gurobi Optimizer version 9.5.1 build v9.5.1rc2 (linux64)\n",
      "Thread count: 128 physical cores, 128 logical processors, using up to 32 threads\n",
      "Optimize a model with 6 rows, 5 columns and 12 nonzeros\n",
      "Model fingerprint: 0x8bca8799\n",
      "Coefficient statistics:\n",
      "  Matrix range     [3e-01, 6e+00]\n",
      "  Objective range  [3e+00, 6e+01]\n",
      "  Bounds range     [0e+00, 0e+00]\n",
      "  RHS range        [2e+01, 3e+02]\n",
      "Presolve removed 6 rows and 5 columns\n",
      "Presolve time: 0.03s\n",
      "Presolve: All rows and columns removed\n",
      "Iteration    Objective       Primal Inf.    Dual Inf.      Time\n",
      "       0    5.5500000e+02   0.000000e+00   0.000000e+00      0s\n",
      "\n",
      "Solved in 0 iterations and 0.05 seconds (0.00 work units)\n",
      "Optimal objective  5.550000000e+02\n"
     ]
    }
   ],
   "source": [
    "m.optimize()"
   ]
  },
  {
   "cell_type": "markdown",
   "id": "b8751c85-cf6a-4469-8891-a5aba958d79b",
   "metadata": {},
   "source": [
    "We get some useful information"
   ]
  },
  {
   "cell_type": "code",
   "execution_count": 7,
   "id": "a46dee59-be31-489b-b3ef-476cb5cab7ea",
   "metadata": {},
   "outputs": [
    {
     "name": "stdout",
     "output_type": "stream",
     "text": [
      "Objective value: 555\n",
      "xa 50\n",
      "xb 0\n",
      "yw 15\n",
      "yl 300\n",
      "yh 150\n",
      "Variable names and values\n",
      "['yh']\n",
      "[150.0]\n",
      "['yh', 'yw']\n",
      "[150.0, 14.999999999999998]\n",
      "# Variables  5\n",
      "# Integer Variables  0\n",
      "# Constraints  6\n",
      "# Variables  5\n",
      "# Integer Variables  0\n",
      "# Binary Variables  0\n",
      "# Constraints  6\n",
      "Dual = 3\n"
     ]
    }
   ],
   "source": [
    "print('Objective value: %g' % m.objVal)\n",
    "print('%s %g' % (xa.varName, xa.x))\n",
    "print('%s %g' % (xb.varName, xb.x))\n",
    "print('%s %g' % (yw.varName, yw.x))\n",
    "print('%s %g' % (yl.varName, yl.x))\n",
    "print('%s %g' % (yh.varName, yh.x))\n",
    "\n",
    "# We can obtain the same information using the model getAttr of the model object.\n",
    "# In this case we need to pass the list of variables we are interested in\n",
    "print(\"Variable names and values\")\n",
    "print(m.getAttr('varName', [yh]))\n",
    "print(m.getAttr('x', [yh]))\n",
    "\n",
    "print(m.getAttr('varName', [yh,yw]))\n",
    "print(m.getAttr('x', [yh,yw]))\n",
    "\n",
    "# Solution information\n",
    "print(\"# Variables \", m.getAttr(\"NumVars\"))\n",
    "print(\"# Integer Variables \", m.getAttr(\"NumIntVars\"))\n",
    "print(\"# Constraints \", m.getAttr(\"NumConstrs\"))\n",
    "\n",
    "print(\"# Variables \", m.NumVars)\n",
    "print(\"# Integer Variables \", m.NumIntVars)\n",
    "print(\"# Binary Variables \", m.NumBinVars)\n",
    "print(\"# Constraints \", m.NumConstrs)\n",
    "\n",
    "# Duals\n",
    "# Note that we need to assing the constraint to a variable, as we did with constr1\n",
    "print('Dual = %g' % constr1.Pi)"
   ]
  }
 ],
 "metadata": {
  "kernelspec": {
   "display_name": "Python 3 (ipykernel)",
   "language": "python",
   "name": "python3"
  },
  "language_info": {
   "codemirror_mode": {
    "name": "ipython",
    "version": 3
   },
   "file_extension": ".py",
   "mimetype": "text/x-python",
   "name": "python",
   "nbconvert_exporter": "python",
   "pygments_lexer": "ipython3",
   "version": "3.8.13"
  }
 },
 "nbformat": 4,
 "nbformat_minor": 5
}
