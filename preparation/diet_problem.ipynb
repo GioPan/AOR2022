{
 "cells": [
  {
   "cell_type": "code",
   "execution_count": null,
   "id": "c1940c44-c504-46a7-98d7-6d6ae44f0886",
   "metadata": {},
   "outputs": [],
   "source": [
    "from gurobipy import GRB, Model"
   ]
  },
  {
   "cell_type": "code",
   "execution_count": null,
   "id": "032caace-ce4a-47cb-aab8-04e30e01c56f",
   "metadata": {},
   "outputs": [],
   "source": [
    "# Create the model object\n",
    "m = Model('diet_problem')\n",
    "\n",
    "# Create the variables\n",
    "xa = m.addVar(0,GRB.INFINITY,vtype=GRB.CONTINUOUS,name=\"xa\")\n",
    "xb = m.addVar(0,GRB.INFINITY,vtype=GRB.CONTINUOUS,name=\"xb\")\n",
    "# a different way to create a non-negative continuous variable\n",
    "xc = m.addVar(name=\"xc\")\n",
    "xd = m.addVar(0,GRB.INFINITY,name=\"xd\")\n",
    "xe = m.addVar(name=\"xe\")\n",
    "\n",
    "# Create the objective function\n",
    "expr = 8 * xa + 10 * xb + 3 * xc + 20 * xd + 15 * xe\n",
    "m.setObjective(expr,sense= GRB.MINIMIZE)\n",
    "\n",
    "# Create the constraints. We will use different ways of adding a constraint\n",
    "expr = 0.4 * xa + 1.2 * xb + 0.6 * xc + 0.6 * xd + 12.2 * xe\n",
    "m.addConstr(lhs= expr,sense= GRB.GREATER_EQUAL,rhs=70)\n",
    "m.addConstr(6 * xa + 10* xb + 3 * xc + 1 * xd +0 * xe >= 50)\n",
    "m.addConstr(0.4 * xa + 0.6 * xb + 0.4 * xc + 0.2 * xd + 2.6*xe, GRB.GREATER_EQUAL,12)\n",
    "\n",
    "\n",
    "m.optimize()\n",
    "\n",
    "print('Objective value: %g' % m.objVal)\n",
    "print('%s %g' % (xa.varName, xa.x))\n",
    "print('%s %g' % (xb.varName, xb.x))\n",
    "print('%s %g' % (xc.varName, xc.x))\n",
    "print('%s %g' % (xd.varName, xd.x))\n",
    "print('%s %g' % (xe.varName, xe.x))"
   ]
  },
  {
   "cell_type": "code",
   "execution_count": null,
   "id": "397ae906-63c2-4c41-a691-3f612af936c3",
   "metadata": {},
   "outputs": [],
   "source": []
  }
 ],
 "metadata": {
  "kernelspec": {
   "display_name": "Python 3 (ipykernel)",
   "language": "python",
   "name": "python3"
  },
  "language_info": {
   "codemirror_mode": {
    "name": "ipython",
    "version": 3
   },
   "file_extension": ".py",
   "mimetype": "text/x-python",
   "name": "python",
   "nbconvert_exporter": "python",
   "pygments_lexer": "ipython3",
   "version": "3.8.13"
  }
 },
 "nbformat": 4,
 "nbformat_minor": 5
}
