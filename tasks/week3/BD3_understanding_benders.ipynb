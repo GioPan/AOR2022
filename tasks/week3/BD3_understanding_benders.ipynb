{
 "cells": [
  {
   "cell_type": "markdown",
   "id": "679655c3-f100-463f-90ac-ec657df3c5a7",
   "metadata": {
    "tags": []
   },
   "source": [
    "# Understanding Benders decomposition\n",
    "\n",
    "Consider the following problem\n",
    "$$\n",
    "\\begin{align*}\n",
    "  \\min~&2x + y_1 + 3y_2\\\\\n",
    "  \\text{s.t.~}&2y_1+y_2+x = 1\\\\\n",
    "       &-y_1+y_2 +4x = 2\\\\\n",
    "       &y_1,y_2,x\\geq 0\n",
    "\\end{align*}\n",
    "$$\n",
    "and assume $x$ is a complicating variable.\n",
    "\n",
    "- Q1. (Optional) show that $\\mathcal{K}_x$ is polyhedral. (Hint: use Farkas lemma, draw the cone, find the rays graphically).\n",
    "- Q2. Solve the problem using Benders decomposition\n",
    "- Q3. Compare the feasibility cuts added in Q2 with the formulation of $\\mathcal{K}_x$ derived in Q1.\n"
   ]
  },
  {
   "cell_type": "code",
   "execution_count": null,
   "id": "593efa9e-4c6d-40d8-89f3-de5e23c1d87b",
   "metadata": {},
   "outputs": [],
   "source": []
  }
 ],
 "metadata": {
  "kernelspec": {
   "display_name": "Python 3 (ipykernel)",
   "language": "python",
   "name": "python3"
  },
  "language_info": {
   "codemirror_mode": {
    "name": "ipython",
    "version": 3
   },
   "file_extension": ".py",
   "mimetype": "text/x-python",
   "name": "python",
   "nbconvert_exporter": "python",
   "pygments_lexer": "ipython3",
   "version": "3.8.13"
  }
 },
 "nbformat": 4,
 "nbformat_minor": 5
}
