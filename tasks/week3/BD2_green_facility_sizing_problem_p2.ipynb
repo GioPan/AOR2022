{
 "cells": [
  {
   "cell_type": "markdown",
   "id": "294c8e60-f72e-416f-b3bb-25e3e8cbb362",
   "metadata": {},
   "source": [
    "# Green Facility Sizing Problem -- Part 2\n",
    "Consider the Facility Sizing Problem described in Chapter 4 of the Benders Decomposition lecture notes. Assume now that a subset of the potential facilities adopt innovative technologies which reduce pollution substantially. These facilities will be called *green facilities*. Our task is to ensure a *green quota* in our distribution plan. That is, we need to ensure that at least a percentage $P\\in(0,1]$ of the quantity delivered to each customer arrives from a green facilities. Taking customer $A$ as an example, this means that $P$% of the quantity of products delivered to customer $A$ must arrive from a green facility. \n",
    "\n",
    "The data of an instance of the problem is provided below, together with a class that represents the problem.\n",
    "- Q1. Implement the Benders decomposition algorithm\n",
    "- Q2. Ensure that the solution obtained is the same as the one give by the non-decomposed model."
   ]
  },
  {
   "cell_type": "markdown",
   "id": "3cf3f74f-97ff-4917-b3a6-e131d6f1c2db",
   "metadata": {},
   "source": [
    "Data of an instance"
   ]
  },
  {
   "cell_type": "code",
   "execution_count": 11,
   "id": "a3f92f59-ac4f-4400-bd91-943262be6311",
   "metadata": {},
   "outputs": [],
   "source": [
    "import random as r\n",
    "n_locations = 5\n",
    "n_customers = 5\n",
    "\n",
    "green_locations = [0,2]\n",
    "percentage_from_green_locations = 0.1\n",
    "\n",
    "r.seed(1)\n",
    "# Random capacity costs between 100 and 300\n",
    "fixed_costs = [(100 + (r.random() * 200)) for i in range(n_locations)]\n",
    "\n",
    "# Random delivery costs between 10 and 40\n",
    "delivery_costs = [[(10 + (r.random() * 30)) for j in range(n_customers)] for i in range(n_locations)]\n",
    "\n",
    "# Random demands between 50 and 100\n",
    "demands = [(50 + (r.random() * 50)) for j in range(n_customers)]\n",
    "\n",
    "# Random capacities between 100 and 140\n",
    "capacities = [(120 + (r.random() * 20)) for i in range(n_locations)]\n"
   ]
  },
  {
   "cell_type": "markdown",
   "id": "abceb6d0-ec9a-4a70-bc45-3cc29eae1d37",
   "metadata": {},
   "source": [
    "Class for the Green Facility Sizing Problem"
   ]
  },
  {
   "cell_type": "code",
   "execution_count": 12,
   "id": "a7bbec0b-ff0f-4db1-ab61-2d002f10841c",
   "metadata": {},
   "outputs": [],
   "source": [
    "class GreenFacilitySizingProblem:\n",
    "\n",
    "    def __init__(self,n_facilities:int,n_customers:int,fixed_costs:list,delivery_costs:list,demands:list,capacity:list, green_locations:list,percentage_from_green_locations:float):\n",
    "        self.n_facilities = n_facilities\n",
    "        self.n_customers = n_customers\n",
    "        self.fixed_costs = fixed_costs\n",
    "        self.delivery_costs = delivery_costs\n",
    "        self.demands = demands\n",
    "        self.capacity = capacity\n",
    "        self.green_locations = green_locations\n",
    "        self.percentage_from_green_locations = percentage_from_green_locations"
   ]
  },
  {
   "cell_type": "code",
   "execution_count": 13,
   "id": "13b3cac5-6497-40aa-b2b8-3a997717d24e",
   "metadata": {},
   "outputs": [],
   "source": [
    "p = GreenFacilitySizingProblem(n_locations, n_customers, fixed_costs, delivery_costs, demands, capacities,green_locations,percentage_from_green_locations)"
   ]
  },
  {
   "cell_type": "markdown",
   "id": "ad0aed9c-bada-4c0d-9ab7-e4f563c9df7a",
   "metadata": {},
   "source": [
    "# Solution"
   ]
  }
 ],
 "metadata": {
  "kernelspec": {
   "display_name": "Python 3 (ipykernel)",
   "language": "python",
   "name": "python3"
  },
  "language_info": {
   "codemirror_mode": {
    "name": "ipython",
    "version": 3
   },
   "file_extension": ".py",
   "mimetype": "text/x-python",
   "name": "python",
   "nbconvert_exporter": "python",
   "pygments_lexer": "ipython3",
   "version": "3.8.13"
  }
 },
 "nbformat": 4,
 "nbformat_minor": 5
}
