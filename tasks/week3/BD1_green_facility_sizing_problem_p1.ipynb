{
 "cells": [
  {
   "cell_type": "markdown",
   "id": "294c8e60-f72e-416f-b3bb-25e3e8cbb362",
   "metadata": {},
   "source": [
    "# Green Facility Sizing Problem -- Part 1\n",
    "Consider the Facility Sizing Problem described in Chapter 4 of the Benders Decomposition lecture notes. Assume now that a subset of the potential facilities adopt innovative technologies which reduce pollution substantially. These facilities will be called *green facilities*. Our task is to ensure a *green quota* in our distribution plan. That is, we need to ensure that at least a percentage $P\\in(0,1]$ of the quantity delivered to each customer arrives from a green facilities. Taking customer $A$ as an example, this means that $P$% of the quantity of products delivered to customer $A$ must arrive from a green facility. \n",
    "\n",
    "- Q1. Modify the original formulation of the problem to account for the constraint on the quantity delivered from green facilities\n",
    "- Q2. Provide a formulation of the master problem, feasibility subproblem and optimality subproblem\n",
    "- Q3. Provide an expression of optimality and feasibility cuts\n"
   ]
  }
 ],
 "metadata": {
  "kernelspec": {
   "display_name": "Python 3 (ipykernel)",
   "language": "python",
   "name": "python3"
  },
  "language_info": {
   "codemirror_mode": {
    "name": "ipython",
    "version": 3
   },
   "file_extension": ".py",
   "mimetype": "text/x-python",
   "name": "python",
   "nbconvert_exporter": "python",
   "pygments_lexer": "ipython3",
   "version": "3.8.13"
  }
 },
 "nbformat": 4,
 "nbformat_minor": 5
}
