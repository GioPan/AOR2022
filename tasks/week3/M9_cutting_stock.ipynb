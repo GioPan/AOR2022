{
 "cells": [
  {
   "cell_type": "markdown",
   "id": "a2bb9780-dc5e-4b61-9bf9-35ed028c5a94",
   "metadata": {},
   "source": [
    "# The cutting stock problem\n",
    "Consider the Cutting Stock problem introduced in the Classical Problems library. The scope of this task is to compare the two formulations provided for the problem.\n",
    "The class provided below generates random instances of the problem.\n",
    "Particularly, run the following experiment\n",
    "- Generate 10 random instances of the problem with 7 types of small rolls each (`n_types`)\n",
    "- For each instance solve the LP relaxation of the two formulations and record their objectives (LP bounds)\n",
    "- For each instance solve both integer formulations and recall solution times and optimality gaps\n",
    "- Using basic statistics, draw conclusions regarding the quality of the two formulations."
   ]
  },
  {
   "cell_type": "code",
   "execution_count": 1,
   "id": "b7fd2fcb-2b11-4acb-943e-edea7fe59e58",
   "metadata": {},
   "outputs": [],
   "source": [
    "import random as r\n",
    "class CuttingStockProblem:\n",
    "    \n",
    "    def __init__(self,n_types, seed:int=1):\n",
    "        r.seed(seed)\n",
    "        self.n_types = n_types\n",
    "        self.width_large_rolls = r.randint(5,10)\n",
    "        self.width_small_rolls = [1.0 + 2 * r.random() for i in range(self.n_types)]\n",
    "        self.demand = [5 + r.randint(0,15) for i in range(self.n_types)]\n",
    "    \n",
    "    def get_max_number_of_large_rolls(self):\n",
    "        '''\n",
    "        Returns an upper bound on the number of large rolls used.\n",
    "        It assumes that each small roll is cut from a different large roll,\n",
    "        therefore, the upper bound is equal to the sum of the demands.\n",
    "        :return:int\n",
    "        '''\n",
    "        return sum(self.demand)\n",
    "\n",
    "\n",
    "    def get_feasible_patterns(self):\n",
    "\n",
    "        # First we calculate how many of each width we can cut from a large roll\n",
    "        max_rolls = [int((self.width_large_rolls/self.width_small_rolls[i])//1) for i in range(self.n_types)]\n",
    "\n",
    "        # Now, we generate all possible patterns, and then we\n",
    "        # check which ones are feasible. All\n",
    "        # possible patterns are given by the Cartesian product of\n",
    "        # the integers up to max_rolls.\n",
    "        # That is, if we can cut\n",
    "        # -- up to 2 of width w1, that is 0, 1 or 2\n",
    "        # -- up to 2 of width w2, that is 0, 2 or 2\n",
    "        # -- up to 3 of width w3, that is 0, 1, 2 or 3\n",
    "        # all the possible patters are given by the Cartesian product\n",
    "        # of the vectors[0, 1, 2]x[0, 1, 2]x[0, 1, 2, 3]\n",
    "        vectors = {}\n",
    "        for i in range(self.n_types):\n",
    "            vectors[i] = [j for j in range(max_rolls[i] + 1)]\n",
    "\n",
    "        patterns = None\n",
    "        for i in vectors:\n",
    "            if patterns == None:\n",
    "                patterns = self.cartesian_product_of_one(vectors[i])\n",
    "            else:\n",
    "                patterns = self.cartesian_product_of_two(patterns,vectors[i])\n",
    "\n",
    "        # Now, of the cartesian products, we discard the elements which violate the large roll width\n",
    "        infeasible_patterns = []\n",
    "        for p in patterns:\n",
    "            cut_width = sum([self.width_small_rolls[i] * p[i] for i in range(self.n_types)])\n",
    "            if cut_width > self.width_large_rolls:\n",
    "                infeasible_patterns.append(p)\n",
    "        for p in infeasible_patterns:\n",
    "            patterns.remove(p)\n",
    "\n",
    "        return patterns\n",
    "\n",
    "    def cartesian_product_of_one(self,a:list):\n",
    "        return [(i,) for i in a]\n",
    "\n",
    "    def cartesian_product_of_two(self,a:list,b:list) -> list:\n",
    "        elements = []\n",
    "        for i in a:\n",
    "            for j in b:\n",
    "                elements.append(i+(j,))\n",
    "        return(elements)\n"
   ]
  },
  {
   "cell_type": "markdown",
   "id": "1322ba68-4625-412d-8f49-aae52ef8a7f9",
   "metadata": {},
   "source": [
    "# Solution"
   ]
  }
 ],
 "metadata": {
  "kernelspec": {
   "display_name": "Python 3 (ipykernel)",
   "language": "python",
   "name": "python3"
  },
  "language_info": {
   "codemirror_mode": {
    "name": "ipython",
    "version": 3
   },
   "file_extension": ".py",
   "mimetype": "text/x-python",
   "name": "python",
   "nbconvert_exporter": "python",
   "pygments_lexer": "ipython3",
   "version": "3.8.13"
  }
 },
 "nbformat": 4,
 "nbformat_minor": 5
}
