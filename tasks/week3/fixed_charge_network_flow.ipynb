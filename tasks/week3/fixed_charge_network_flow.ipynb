{
 "cells": [
  {
   "cell_type": "markdown",
   "id": "624b3163-dc24-4fa4-94f4-83a31dc965ca",
   "metadata": {},
   "source": [
    "# Fixed Charge Network Flow\n",
    "Consider the Fixed Charge Network Flow Problem presented during the lectures. The class provided below generates random instances of the model by passing the size and a seed which sets the random numbers. This task consists of performing two experiments and providing some conclusions based on their results.\n",
    "## Experiment 1\n",
    "The scope of the first experiment is to assess whether the original formulation or the variables splitting formulation provide a stronger lower bound. Perform the experiment by completing the following steps.  \n",
    "\n",
    "1. Set the 'n_nodes' to 10 and solve 10 different instances (seeds 1 through 10) of the LP relaxation of the original formulation \n",
    "2. Store the objective values of the LP relaxations in step 1\n",
    "3. Set the 'n_nodes' to 10 and solve 10 different instances (seeds 1 through 10) of the LP relaxation of the Variables Splitting formulation \n",
    "4. Store the objective values of the LP relaxations in step 3\n",
    "5. Use basic statistics to assess the quality of the two LP relaxation bounds.\n",
    " \n",
    "## Experiment 2\n",
    "Perform the following experiment to assess whether the variables splitting approach is preferable to the original formulation when solving the problem via Branch & Bound. Perform the experiment by completing the following steps.\n",
    "\n",
    "1. Set the 'n_nodes' to 10 and solve 10 different instances (seeds 1 through 10) with the original formulation\n",
    "2. For each instance solved in step 1. store solution time, best bound and optimality gap\n",
    "3. Set the 'n_nodes' to 10 and solve 10 different instances (seeds 1 through 10) with the Variables Splitting formulation\n",
    "4. For each instance solved in step 3. store solution time, best bound and optimality gap\n",
    "5. Use basic statistics to assess the quality of the two formulations.\n",
    "\n",
    "## Conclusions\n",
    "Explain the results of the two experiments: Why do you get these results.\n",
    "\n",
    "## Experiment 3 (Optional)\n",
    "Repeat the two experiments with $n_nodes = 40$."
   ]
  },
  {
   "cell_type": "code",
   "execution_count": 34,
   "id": "ba9d64b2-a18c-4694-a3bf-1de787709bf4",
   "metadata": {},
   "outputs": [],
   "source": [
    "import random as r\n",
    "class FCNFP:\n",
    "    '''\n",
    "    This class represents the blueprint for instances of the Fixed Charge Network Flow Problem.\n",
    "    The constructor generates random instances for of a given size. We also need to pass a seed which \n",
    "    initializes the random number generator. Each value of the seed corresponds to a different instance of the problem.\n",
    "    '''\n",
    "    def __init__(self,n_nodes:int, seed:int):\n",
    "        r.seed(seed)\n",
    "        print(n_nodes)\n",
    "        self.nodes = [i+1 for i in range(n_nodes)]\n",
    "        self.arcs = [(i,j) for i in self.nodes for j in self.nodes if (i != 0) and (r.random() > 0.3)]\n",
    "        self.flow_cost = {(i,j): 20 + 20* r.random() for (i,j) in self.arcs}\n",
    "        self.fixed_cost = {(i,j): 200 + 200* r.random() for (i,j) in self.arcs}\n",
    "        # We arbitrarilyy designate node 1 as the root\n",
    "        self.demand = {i: int(50)+ r.randint(0,25) for i in self.nodes if i > 1}\n",
    "        self.demand[1] = -sum(self.demand.values())"
   ]
  },
  {
   "cell_type": "markdown",
   "id": "40998933-7db5-4806-baa4-7ac73d1c37b1",
   "metadata": {},
   "source": [
    "The class can be used as follows"
   ]
  },
  {
   "cell_type": "code",
   "execution_count": 35,
   "id": "d07467ea-7f37-49a7-9246-d1ef35f31868",
   "metadata": {},
   "outputs": [
    {
     "name": "stdout",
     "output_type": "stream",
     "text": [
      "10\n"
     ]
    },
    {
     "data": {
      "text/plain": [
       "[(1, 2),\n",
       " (1, 3),\n",
       " (1, 5),\n",
       " (1, 6),\n",
       " (1, 7),\n",
       " (1, 8),\n",
       " (2, 1),\n",
       " (2, 2),\n",
       " (2, 3),\n",
       " (2, 5),\n",
       " (2, 6),\n",
       " (2, 8),\n",
       " (2, 9),\n",
       " (3, 2),\n",
       " (3, 3),\n",
       " (3, 4),\n",
       " (3, 6),\n",
       " (3, 9),\n",
       " (3, 10),\n",
       " (4, 4),\n",
       " (4, 7),\n",
       " (4, 8),\n",
       " (4, 9),\n",
       " (5, 1),\n",
       " (5, 2),\n",
       " (5, 4),\n",
       " (5, 5),\n",
       " (5, 6),\n",
       " (5, 7),\n",
       " (5, 8),\n",
       " (5, 9),\n",
       " (5, 10),\n",
       " (6, 1),\n",
       " (6, 2),\n",
       " (6, 3),\n",
       " (6, 4),\n",
       " (6, 5),\n",
       " (6, 6),\n",
       " (6, 9),\n",
       " (6, 10),\n",
       " (7, 2),\n",
       " (7, 3),\n",
       " (7, 4),\n",
       " (7, 5),\n",
       " (7, 6),\n",
       " (7, 7),\n",
       " (7, 8),\n",
       " (7, 9),\n",
       " (7, 10),\n",
       " (8, 1),\n",
       " (8, 4),\n",
       " (8, 5),\n",
       " (8, 6),\n",
       " (8, 7),\n",
       " (8, 9),\n",
       " (8, 10),\n",
       " (9, 1),\n",
       " (9, 2),\n",
       " (9, 3),\n",
       " (9, 5),\n",
       " (9, 6),\n",
       " (9, 7),\n",
       " (9, 8),\n",
       " (9, 10),\n",
       " (10, 1),\n",
       " (10, 3),\n",
       " (10, 4),\n",
       " (10, 5),\n",
       " (10, 6),\n",
       " (10, 7),\n",
       " (10, 8),\n",
       " (10, 9),\n",
       " (10, 10)]"
      ]
     },
     "execution_count": 35,
     "metadata": {},
     "output_type": "execute_result"
    }
   ],
   "source": [
    "p = FCNFP(n_nodes = 10,seed = 1)\n",
    "p.arcs"
   ]
  },
  {
   "cell_type": "markdown",
   "id": "d3abd41f-ecb6-4c68-9c58-e85bcfe71127",
   "metadata": {},
   "source": [
    "# Solution\n",
    "## Experiment 1"
   ]
  },
  {
   "cell_type": "markdown",
   "id": "88a5321e-2ec1-49c2-bb45-f5fd6c29f0d4",
   "metadata": {},
   "source": [
    "## Experiment 2"
   ]
  },
  {
   "cell_type": "markdown",
   "id": "132fcc5e-4431-42ef-ba95-5d37498ede06",
   "metadata": {},
   "source": [
    "## Conclusions"
   ]
  },
  {
   "cell_type": "markdown",
   "id": "f0d115cd-cb67-4165-a47d-1a1e04c9fc08",
   "metadata": {},
   "source": [
    "## Experiment 3 (Optional)"
   ]
  },
  {
   "cell_type": "code",
   "execution_count": null,
   "id": "64890a09-775c-40ea-b988-1deccdd1a1ac",
   "metadata": {},
   "outputs": [],
   "source": []
  }
 ],
 "metadata": {
  "kernelspec": {
   "display_name": "Python 3 (ipykernel)",
   "language": "python",
   "name": "python3"
  },
  "language_info": {
   "codemirror_mode": {
    "name": "ipython",
    "version": 3
   },
   "file_extension": ".py",
   "mimetype": "text/x-python",
   "name": "python",
   "nbconvert_exporter": "python",
   "pygments_lexer": "ipython3",
   "version": "3.8.13"
  }
 },
 "nbformat": 4,
 "nbformat_minor": 5
}
