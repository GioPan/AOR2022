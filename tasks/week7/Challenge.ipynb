{
 "cells": [
  {
   "cell_type": "markdown",
   "id": "0fefd4ff-e897-4059-817d-b56407991998",
   "metadata": {},
   "source": [
    "# Find the best solution to the Berlin52 instance"
   ]
  },
  {
   "cell_type": "markdown",
   "id": "766f11f5-e37f-4290-a4b6-dd7ed6222962",
   "metadata": {},
   "source": [
    "Deliver the solution by ..."
   ]
  },
  {
   "cell_type": "code",
   "execution_count": null,
   "id": "cdec6818-820d-437d-9340-0f8bf8815ba7",
   "metadata": {},
   "outputs": [],
   "source": []
  }
 ],
 "metadata": {
  "kernelspec": {
   "display_name": "Python 3 (ipykernel)",
   "language": "python",
   "name": "python3"
  },
  "language_info": {
   "codemirror_mode": {
    "name": "ipython",
    "version": 3
   },
   "file_extension": ".py",
   "mimetype": "text/x-python",
   "name": "python",
   "nbconvert_exporter": "python",
   "pygments_lexer": "ipython3",
   "version": "3.8.13"
  }
 },
 "nbformat": 4,
 "nbformat_minor": 5
}
