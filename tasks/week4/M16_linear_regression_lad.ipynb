{
 "cells": [
  {
   "cell_type": "markdown",
   "id": "d74b3638-324d-4dbd-8537-406d8651bf0a",
   "metadata": {},
   "source": [
    "# Linear Regression with Least Absolute Deviation\n",
    "\n",
    "Consider the following multiple linear regression model consisting of $k$ independent variables: $y_i=\\beta_0+\\beta_{1}x_{1i}+\\cdots+\\beta_{k}x_{ki}+\\epsilon_i$, with $y_i$ the dependent variable, $x_{ji}$, $j=1,\\ldots,k$ the independent variables, $\\beta_{j}$, $j=0\\ldots,k$ the regression coefficients, and $\\epsilon_i$ the random error, with $i=1,\\ldots,n$ being the observations.\n",
    "Linear regression is commonly done using Ordinary Least Squares method, where the values of the coefficients are chosen in such a way to minimize the sum of the squared errors. One of the reasons is the availability of analytical solutions: We can take partial derivatives, set them equal to zero, and solve for the value of the coefficients.\n",
    "\n",
    "However, there are other ways of estimating the parameters of a linear regression model. One approach is the Least Absolute Deviations (LAD) method. In this case, the objective is to minimize the sum of the absolute errors instead of the squared errors. That is, the objective is to minimize $|y_i - \\beta_0 - \\sum_{i=i}^k\\beta_ix_i|$. Assuming $n$ observations $(y_i,x_{1i},\\ldots,x_{ki})$, $i=1,\\ldots,n$, the LAD model can be formulated as an LP. \n",
    "\n",
    "- Provide a linear programming formulation for the LAD model. (Hint: recall how absolute values can be expressed using linear expressions)\n",
    "- Fit the regression model to the data provided below."
   ]
  },
  {
   "cell_type": "markdown",
   "id": "ac1a18fc-fd4b-4dc1-bb73-7afebeecbbb9",
   "metadata": {},
   "source": [
    "## Data\n",
    "To keep things simple and perhaps allow for visualization, we consider a case with $k=1$, that is only one independent variable. The following function returns the desired number of observations."
   ]
  },
  {
   "cell_type": "code",
   "execution_count": 35,
   "id": "df6a4c05-2aa4-4289-af60-ed1b2a9d2b63",
   "metadata": {},
   "outputs": [
    {
     "name": "stderr",
     "output_type": "stream",
     "text": [
      "/opt/conda/envs/python3/lib/python3.8/site-packages/seaborn/_decorators.py:36: FutureWarning: Pass the following variables as keyword args: x, y. From version 0.12, the only valid positional argument will be `data`, and passing other arguments without an explicit keyword will result in an error or misinterpretation.\n",
      "  warnings.warn(\n",
      "/opt/conda/envs/python3/lib/python3.8/site-packages/seaborn/axisgrid.py:1667: UserWarning: The `size` parameter has been renamed to `height`; please update your code.\n",
      "  warnings.warn(msg, UserWarning)\n",
      "/opt/conda/envs/python3/lib/python3.8/site-packages/seaborn/axisgrid.py:1740: UserWarning: Tight layout not applied. tight_layout cannot make axes width small enough to accommodate all axes decorations\n",
      "  f.tight_layout()\n"
     ]
    },
    {
     "data": {
      "text/plain": [
       "<seaborn.axisgrid.JointGrid at 0x7fcc801bb730>"
      ]
     },
     "execution_count": 35,
     "metadata": {},
     "output_type": "execute_result"
    },
    {
     "data": {
      "image/png": "[encoded data removed]",
      "text/plain": [
       "<Figure size 432x432 with 3 Axes>"
      ]
     },
     "metadata": {
      "needs_background": "light"
     },
     "output_type": "display_data"
    }
   ],
   "source": [
    "import numpy as np\n",
    "import seaborn as sns\n",
    "import matplotlib.pyplot as plt\n",
    "def generate_observations(n: int, seed:int=10):\n",
    "    np.random.seed(seed)\n",
    "    x = np.random.uniform(0,10,n)\n",
    "    y = x+np.random.normal(10,3,n)\n",
    "    return x,y\n",
    "\n",
    "x,y = generate_observations(25)\n",
    "# Plot\n",
    "grid = sns.JointGrid(x, y, space=0, size=6, ratio=50)\n",
    "grid.plot_joint(plt.scatter, color=\"g\")"
   ]
  }
 ],
 "metadata": {
  "kernelspec": {
   "display_name": "Python 3 (ipykernel)",
   "language": "python",
   "name": "python3"
  },
  "language_info": {
   "codemirror_mode": {
    "name": "ipython",
    "version": 3
   },
   "file_extension": ".py",
   "mimetype": "text/x-python",
   "name": "python",
   "nbconvert_exporter": "python",
   "pygments_lexer": "ipython3",
   "version": "3.8.13"
  }
 },
 "nbformat": 4,
 "nbformat_minor": 5
}
