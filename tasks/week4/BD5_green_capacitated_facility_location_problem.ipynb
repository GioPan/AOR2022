{
 "cells": [
  {
   "cell_type": "markdown",
   "id": "f3ec5362-f95f-4b18-b912-396cf0824fb9",
   "metadata": {},
   "source": [
    "# Green Capacitated Facility Location Problem\n",
    "Consider the Capacitated Facility Location Problem introduced in Chapter 7 of the Benders Decomposition lecture notes. \n",
    "Assume now that a subset of the potential facilities adopts innovative technologies which reduce pollution substantially. \n",
    "These facilities will be called *green facilities*. Our task is to ensure a *green quota* in our distribution plan. \n",
    "That is, we need to ensure that at least a percentage $P\\in(0,1]$ of the quantity delivered to each customer arrives from a green facilities. \n",
    "Taking customer $A$ as an example, this means that $P$% of the quantity of products delivered to customer $A$ must arrive from a green facility. \n",
    "An instance of the problem is provided below together with a class for the problem.\n",
    "\n",
    "- Q1 Adjust the formulation of the problem to account for the green quota.\n",
    "- Q2 Solve the instance of the problem using Benders decomposition.\n",
    "- Q3 Compare its solution to that of the non-decomposed problem to ensure it is correct."
   ]
  },
  {
   "cell_type": "markdown",
   "id": "9f3e33a1-7673-46d6-bb2b-b1d98a1d9640",
   "metadata": {},
   "source": [
    "## Data"
   ]
  },
  {
   "cell_type": "code",
   "execution_count": 38,
   "id": "84e4acc8-805d-4480-bed4-c9e208d0dbe6",
   "metadata": {},
   "outputs": [],
   "source": [
    "import random as r\n",
    "n_locations = 15\n",
    "n_customers = 30\n",
    "\n",
    "green_locations = [0,2,5,7,10]\n",
    "green_percentage = 0.1\n",
    "\n",
    "r.seed(1)\n",
    "# Random fixed costs between 100 and 300\n",
    "fixed_costs = [(100 + (r.random() * 200)) for i in range(n_locations)]\n",
    "\n",
    "# Random delivery costs between 10 and 40\n",
    "delivery_costs = {(i,j):(10 + (r.random() * 30)) for j in range(n_customers) for i in range(n_locations)}\n",
    "\n",
    "# Random demands between 50 and 100\n",
    "demands = [(50 + (r.random() * 50)) for j in range(n_customers)]\n",
    "\n",
    "# Random capacities between 100 and 140\n",
    "capacities = [(150 + (r.random() * 50)) for i in range(n_locations)]\n"
   ]
  },
  {
   "cell_type": "markdown",
   "id": "13d6349c-fc67-4109-975e-54a5a72990f3",
   "metadata": {},
   "source": [
    "## Class for the Facility Location Problem."
   ]
  },
  {
   "cell_type": "code",
   "execution_count": 39,
   "id": "bf8ff203-3297-4f4a-aa8f-fbfb8657d03d",
   "metadata": {},
   "outputs": [],
   "source": [
    "class FacilityLocationProblem:\n",
    "\n",
    "    def __init__(self,n_facilities,n_customers,fixed_costs,delivery_costs,demands,capacity, green_locations:list,percentage:float):\n",
    "        self.n_facilities = n_facilities\n",
    "        self.n_customers = n_customers\n",
    "        self.fixed_costs = fixed_costs\n",
    "        self.delivery_costs = delivery_costs\n",
    "        self.demands = demands\n",
    "        self.capacity = capacity\n",
    "        self.green_locations = green_locations\n",
    "        self.percentage = percentage"
   ]
  },
  {
   "cell_type": "markdown",
   "id": "20e35587-133f-442d-b254-12fa45a10cfd",
   "metadata": {},
   "source": [
    "We can now create an instance of the Facility Location Problem"
   ]
  },
  {
   "cell_type": "code",
   "execution_count": 40,
   "id": "d5341b64-9794-4d36-a887-c6b14afbdc44",
   "metadata": {},
   "outputs": [],
   "source": [
    "flp = FacilityLocationProblem(n_locations, n_customers, fixed_costs, delivery_costs, demands, capacities,green_locations, green_percentage)"
   ]
  },
  {
   "cell_type": "markdown",
   "id": "6010cd11-26d9-4195-9b3e-cbad46516e99",
   "metadata": {},
   "source": [
    "# Solution"
   ]
  }
 ],
 "metadata": {
  "kernelspec": {
   "display_name": "Python 3 (ipykernel)",
   "language": "python",
   "name": "python3"
  },
  "language_info": {
   "codemirror_mode": {
    "name": "ipython",
    "version": 3
   },
   "file_extension": ".py",
   "mimetype": "text/x-python",
   "name": "python",
   "nbconvert_exporter": "python",
   "pygments_lexer": "ipython3",
   "version": "3.8.13"
  }
 },
 "nbformat": 4,
 "nbformat_minor": 5
}
