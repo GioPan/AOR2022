{
 "cells": [
  {
   "cell_type": "markdown",
   "id": "4b126141-76ad-4f64-a044-f1c359a056ae",
   "metadata": {},
   "source": [
    "# Transportation Problem\n",
    "Consider a Transportation Problem introduced in the Lecture Notes on Dantzig-Wolfe decomposition. The problem can be formulated as follows.\n",
    "\n",
    "$$\\begin{align*}\n",
    "  z= &\\min \\sum_{i=1}^n\\sum_{j=1}^mC_{ij}x_{ij}\\\\\n",
    "  \\text{s.t.~}& \\sum_{j=1}^mx_{ij} = S_i& i=1,\\ldots,n\\\\\n",
    "     & \\sum_{i=1}^nx_{ij} = D_j& j=1,\\ldots,m\\\\\n",
    "     & x_{ij} \\leq K_{ij}& i=1,\\ldots,n, j=1,\\ldots,m\\\\\n",
    "     & x_{ij} \\geq 0& i=1,\\ldots,n, j=1,\\ldots,m       \n",
    "\\end{align*}\n",
    "$$\n"
   ]
  },
  {
   "cell_type": "markdown",
   "id": "3568e8f8-60ff-40e9-98fe-e101191b2173",
   "metadata": {},
   "source": [
    "A class that represents and generates instances of the problem is provided below. \n",
    "- Q1. Assuming the demand constraints are complicating, solve the problem using Dantzig-Wolfe decomposition. \n",
    "- Q2. Compare the solution to that obtained by solving the full model."
   ]
  },
  {
   "cell_type": "code",
   "execution_count": 17,
   "id": "0497b473-01ce-4355-bffe-2788d6e3e9a2",
   "metadata": {},
   "outputs": [],
   "source": [
    "import random as r\n",
    "class TransportationProblem:\n",
    "    \n",
    "    def __init__(self, n_sources:int,n_sinks:int,seed:int=1):\n",
    "        r.seed(seed)\n",
    "        self.n_sources = n_sources\n",
    "        self.n_sinks = n_sinks\n",
    "        # Generates the demand\n",
    "        self.demand = {}\n",
    "        for i in range(n_sinks):\n",
    "            self.demand[i] = 30 + r.randint(0,50)\n",
    "        total_demand = sum(self.demand.values())\n",
    "        # Generates the supply\n",
    "        self.supply = {}\n",
    "        for i in range(n_sources-1):\n",
    "            self.supply[i] = 20 + r.randint(0, 40)\n",
    "        self.supply[n_sources-1] = max(0,total_demand - sum(self.supply.values()))\n",
    "        # Generates the costs\n",
    "        self.costs = {(i,j): r.randint(10,20) for i in range(n_sources) for j in range(n_sinks) }\n",
    "        # Generates the capacities\n",
    "        self.capacities = {(i,j): r.randint(30,80) for i in range(n_sources) for j in range(n_sinks) }\n",
    "        \n",
    "        "
   ]
  },
  {
   "cell_type": "markdown",
   "id": "c99918eb-d377-4d39-9702-651737834ea8",
   "metadata": {},
   "source": [
    "Example usage"
   ]
  },
  {
   "cell_type": "code",
   "execution_count": 18,
   "id": "9ff07243-7488-4ebe-b5fb-4a568e79a616",
   "metadata": {},
   "outputs": [
    {
     "data": {
      "text/plain": [
       "{0: 66, 1: 32, 2: 57, 3: 60, 4: 66, 5: 30}"
      ]
     },
     "execution_count": 18,
     "metadata": {},
     "output_type": "execute_result"
    }
   ],
   "source": [
    "t = TransportationProblem(5,6,seed = 10)\n",
    "sum(t.demand.values()), sum(t.supply.values())\n",
    "t.demand"
   ]
  }
 ],
 "metadata": {
  "kernelspec": {
   "display_name": "Python 3 (ipykernel)",
   "language": "python",
   "name": "python3"
  },
  "language_info": {
   "codemirror_mode": {
    "name": "ipython",
    "version": 3
   },
   "file_extension": ".py",
   "mimetype": "text/x-python",
   "name": "python",
   "nbconvert_exporter": "python",
   "pygments_lexer": "ipython3",
   "version": "3.8.13"
  }
 },
 "nbformat": 4,
 "nbformat_minor": 5
}
