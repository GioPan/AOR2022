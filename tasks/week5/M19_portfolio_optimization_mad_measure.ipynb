{
 "cells": [
  {
   "cell_type": "markdown",
   "id": "3d90fc5b-2944-4ba1-bca1-4310bc99fa64",
   "metadata": {},
   "source": [
    "# Portfolio Optimization with MAD risk measure\n",
    "Linear and Integer programming are widely used in finance for tasks such as index tracking and, particularly, for portfolio selection. In this example, we will use linear programming to compose a portfolio of assets, with the goal of reaching a threshold on the mean return while minimizing risk, measured by the Mean Absolute Deviation. \n",
    "\n",
    "An investor is to decide how to allocate their whealth on a set $\\mathcal{I}$ of investment instruments. \n",
    "The rate of return of each instrument is random. On the basis of a careful preliminary analysis, $S$ different return scenarios have been identified as possible at the target time. The probability that scenario $s\\in\\mathcal{S}$ materializes is indicated by $\\pi_s$, and the rate of return realization for asset $i$ under scenario $s$ is denoted $r_{is}$. That is, investing $X$ in asset $i$ one obtains $r_{is}X$ at the end of the period. The objective of the investor is to minimize the *mean absolute deviate* (MAD) of the scenario-returns (that is the average of the absolute value of the difference between the scenario-returns and their expected value) while ensuring that the expected return of the portfolio constructed exceeds a threshold $\\mu_0$. \n",
    "- Q1 Provide a mathematical model for the problem. (Hint: your decision variables are $x_i$, $i\\in \\mathcal{I}$ representing the fraction of whealth allocated to asset $i$, and all the whealth must be allocated, thus $\\sum_{i\\in\\mathcal{I}}x_i=1$. To measure the MAD you will need to store the total return for each scenario in a separate variable.)\n",
    "- Q2 Solve the instance of the problem described in the data below (a class for the problem is also provided)."
   ]
  },
  {
   "cell_type": "markdown",
   "id": "3c889efc-9e7b-4df6-a530-f78a912e29b4",
   "metadata": {},
   "source": [
    "## Data\n",
    "Unlike in the text of the exercise, the scenarios provided in this data are not really the result of *careful preliminary analysis*, so take it for what it is.."
   ]
  },
  {
   "cell_type": "code",
   "execution_count": 1,
   "id": "0633f289-49d7-479f-8624-b10882be9f81",
   "metadata": {},
   "outputs": [
    {
     "name": "stdout",
     "output_type": "stream",
     "text": [
      "Collecting yfinance\n",
      "  Downloading yfinance-0.1.74-py2.py3-none-any.whl (27 kB)\n",
      "Requirement already satisfied: lxml>=4.5.1 in /opt/conda/envs/python3/lib/python3.8/site-packages (from yfinance) (4.9.1)\n",
      "Collecting multitasking>=0.0.7\n",
      "  Downloading multitasking-0.0.11-py3-none-any.whl (8.5 kB)\n",
      "Requirement already satisfied: numpy>=1.15 in /opt/conda/envs/python3/lib/python3.8/site-packages (from yfinance) (1.23.3)\n",
      "Requirement already satisfied: pandas>=0.24.0 in /opt/conda/envs/python3/lib/python3.8/site-packages (from yfinance) (1.4.4)\n",
      "Requirement already satisfied: requests>=2.26 in /opt/conda/envs/python3/lib/python3.8/site-packages (from yfinance) (2.28.1)\n",
      "Requirement already satisfied: pytz>=2020.1 in /opt/conda/envs/python3/lib/python3.8/site-packages (from pandas>=0.24.0->yfinance) (2022.2.1)\n",
      "Requirement already satisfied: python-dateutil>=2.8.1 in /opt/conda/envs/python3/lib/python3.8/site-packages (from pandas>=0.24.0->yfinance) (2.8.2)\n",
      "Requirement already satisfied: idna<4,>=2.5 in /opt/conda/envs/python3/lib/python3.8/site-packages (from requests>=2.26->yfinance) (3.4)\n",
      "Requirement already satisfied: certifi>=2017.4.17 in /opt/conda/envs/python3/lib/python3.8/site-packages (from requests>=2.26->yfinance) (2022.9.14)\n",
      "Requirement already satisfied: charset-normalizer<3,>=2 in /opt/conda/envs/python3/lib/python3.8/site-packages (from requests>=2.26->yfinance) (2.1.1)\n",
      "Requirement already satisfied: urllib3<1.27,>=1.21.1 in /opt/conda/envs/python3/lib/python3.8/site-packages (from requests>=2.26->yfinance) (1.26.12)\n",
      "Requirement already satisfied: six>=1.5 in /opt/conda/envs/python3/lib/python3.8/site-packages (from python-dateutil>=2.8.1->pandas>=0.24.0->yfinance) (1.16.0)\n",
      "Installing collected packages: multitasking, yfinance\n",
      "Successfully installed multitasking-0.0.11 yfinance-0.1.74\n",
      "Note: you may need to restart the kernel to use updated packages.\n"
     ]
    }
   ],
   "source": [
    "%pip install yfinance\n",
    "import yfinance as yf\n",
    "import random as r"
   ]
  },
  {
   "cell_type": "code",
   "execution_count": 34,
   "id": "e39423a0-2be2-4061-a25a-0dff0cb46788",
   "metadata": {},
   "outputs": [],
   "source": [
    "class PortfolioOptimizationProblem:\n",
    "    def __init__(self,tickers:list,n_scenarios:int,target_mean:float,seed:int=1):\n",
    "        r.seed(seed)\n",
    "        self.returns = {}\n",
    "        self.n_scenarios = n_scenarios\n",
    "        self.n_assets = len(tickers)\n",
    "        self.tickers = tickers\n",
    "        for t in self.tickers:\n",
    "            ticker = yf.Ticker(t)\n",
    "            h = ticker.history(start=\"2015-01-01\", end=\"2015-12-31\")\n",
    "            price_then = h['Close'].iloc[0]\n",
    "            for s in range(n_scenarios):\n",
    "                day = r.randint(1,len(h)-1)\n",
    "                price_now = h['Close'].iloc[day]\n",
    "                rate_of_return = (price_now - price_then)/price_then\n",
    "                self.returns[(t,s)] = (1 + rate_of_return)\n",
    "        self.target_mean = target_mean\n",
    "        self.probabilities = [1/n_scenarios]*n_scenarios"
   ]
  },
  {
   "cell_type": "code",
   "execution_count": 50,
   "id": "f9ea7616-cb6d-4b52-ab65-08f0d7289728",
   "metadata": {},
   "outputs": [
    {
     "data": {
      "text/plain": [
       "{('SPY', 0): 1.027585993332032,\n",
       " ('SPY', 1): 1.0337069088080857,\n",
       " ('SPY', 2): 1.0295043985766197,\n",
       " ('SPY', 3): 1.0218040023890673,\n",
       " ('SPY', 4): 0.9947534276972687,\n",
       " ('SPY', 5): 0.9863773210385223,\n",
       " ('SPY', 6): 1.0163877111883932,\n",
       " ('SPY', 7): 1.0222338599808827,\n",
       " ('SPY', 8): 1.0151442465208054,\n",
       " ('SPY', 9): 0.9938154399372177,\n",
       " ('SPY', 10): 1.0398451896754108,\n",
       " ('SPY', 11): 1.0305640296193694,\n",
       " ('SPY', 12): 0.9707021896988499,\n",
       " ('SPY', 13): 1.0408715441802072,\n",
       " ('SPY', 14): 1.0026019857453234,\n",
       " ('AAPL', 0): 1.145106833444605,\n",
       " ('AAPL', 1): 1.081711959944348,\n",
       " ('AAPL', 2): 1.1562830619232358,\n",
       " ('AAPL', 3): 0.9985506703092325,\n",
       " ('AAPL', 4): 1.0854983395109612,\n",
       " ('AAPL', 5): 1.1141537631018261,\n",
       " ('AAPL', 6): 1.2059684080470991,\n",
       " ('AAPL', 7): 1.174458634424179,\n",
       " ('AAPL', 8): 1.0638982215775645,\n",
       " ('AAPL', 9): 1.0238964614691493,\n",
       " ('AAPL', 10): 1.0256398580536956,\n",
       " ('AAPL', 11): 0.9904873652809876,\n",
       " ('AAPL', 12): 1.045181891029511,\n",
       " ('AAPL', 13): 1.1626766404099274,\n",
       " ('AAPL', 14): 1.1537471565931507,\n",
       " ('MSFT', 0): 0.9652098391592171,\n",
       " ('MSFT', 1): 1.191685270161021,\n",
       " ('MSFT', 2): 0.8883006852641558,\n",
       " ('MSFT', 3): 1.0328656937802276,\n",
       " ('MSFT', 4): 1.2412929828920414,\n",
       " ('MSFT', 5): 0.9171153336581126,\n",
       " ('MSFT', 6): 1.2211689312386325,\n",
       " ('MSFT', 7): 1.0545994105932575,\n",
       " ('MSFT', 8): 0.9980625843068578,\n",
       " ('MSFT', 9): 1.0159310404620372,\n",
       " ('MSFT', 10): 1.0032292763703594,\n",
       " ('MSFT', 11): 0.9559841261024166,\n",
       " ('MSFT', 12): 0.9938031410004752,\n",
       " ('MSFT', 13): 0.9827770050300746,\n",
       " ('MSFT', 14): 1.220726425794577,\n",
       " ('TSLA', 0): 0.9790477441321116,\n",
       " ('TSLA', 1): 1.1138437825653449,\n",
       " ('TSLA', 2): 1.1383930598615115,\n",
       " ('TSLA', 3): 0.9069735970587331,\n",
       " ('TSLA', 4): 1.029405143666676,\n",
       " ('TSLA', 5): 1.1510274328117562,\n",
       " ('TSLA', 6): 1.1169911521955884,\n",
       " ('TSLA', 7): 0.9183489964294136,\n",
       " ('TSLA', 8): 1.2349265024165166,\n",
       " ('TSLA', 9): 0.8736117619802842,\n",
       " ('TSLA', 10): 0.9692909240058232,\n",
       " ('TSLA', 11): 1.1257586869112672,\n",
       " ('TSLA', 12): 0.994064995041674,\n",
       " ('TSLA', 13): 1.2576773011578775,\n",
       " ('TSLA', 14): 1.1375836737613159,\n",
       " ('AMZN', 0): 1.2069920998215382,\n",
       " ('AMZN', 1): 1.394715645568836,\n",
       " ('AMZN', 2): 1.2069920998215382,\n",
       " ('AMZN', 3): 1.6827452643855019,\n",
       " ('AMZN', 4): 1.195295661471705,\n",
       " ('AMZN', 5): 1.7393265605811665,\n",
       " ('AMZN', 6): 1.4057999623631283,\n",
       " ('AMZN', 7): 2.139971058204525,\n",
       " ('AMZN', 8): 1.2604478886046935,\n",
       " ('AMZN', 9): 2.134106737036882,\n",
       " ('AMZN', 10): 0.9567585287400289,\n",
       " ('AMZN', 11): 1.3757048462941879,\n",
       " ('AMZN', 12): 2.124601153025595,\n",
       " ('AMZN', 13): 2.1583052050367524,\n",
       " ('AMZN', 14): 1.6949573352504947,\n",
       " ('NVDA', 0): 1.6584802956113656,\n",
       " ('NVDA', 1): 1.143057868649024,\n",
       " ('NVDA', 2): 1.0164584684562685,\n",
       " ('NVDA', 3): 1.1350270127080893,\n",
       " ('NVDA', 4): 1.0460773168485333,\n",
       " ('NVDA', 5): 1.1769002739283414,\n",
       " ('NVDA', 6): 1.5355263439238036,\n",
       " ('NVDA', 7): 1.117002603071577,\n",
       " ('NVDA', 8): 1.116209089922779,\n",
       " ('NVDA', 9): 1.2839828737371697,\n",
       " ('NVDA', 10): 1.1064884548588425,\n",
       " ('NVDA', 11): 1.608284550489056,\n",
       " ('NVDA', 12): 1.1925582998545226,\n",
       " ('NVDA', 13): 1.7076612823394224,\n",
       " ('NVDA', 14): 1.1617470039335127,\n",
       " ('V', 0): 1.021636876244742,\n",
       " ('V', 1): 1.1809271400060617,\n",
       " ('V', 2): 1.2022813519886841,\n",
       " ('V', 3): 1.0403152203177846,\n",
       " ('V', 4): 1.0265360426672199,\n",
       " ('V', 5): 1.2015044851337913,\n",
       " ('V', 6): 1.2351575969760686,\n",
       " ('V', 7): 1.0815844478490875,\n",
       " ('V', 8): 1.0126309230655939,\n",
       " ('V', 9): 1.0313148468453288,\n",
       " ('V', 10): 0.9860761178681768,\n",
       " ('V', 11): 1.1361561866592156,\n",
       " ('V', 12): 1.2168760252327826,\n",
       " ('V', 13): 1.2307024157861308,\n",
       " ('V', 14): 1.037559335735305}"
      ]
     },
     "execution_count": 50,
     "metadata": {},
     "output_type": "execute_result"
    }
   ],
   "source": [
    "tickers = ['SPY', 'AAPL', 'MSFT', 'TSLA', 'AMZN', 'NVDA','V']\n",
    "pop = PortfolioOptimizationProblem(tickers,15,(1+7/100))\n",
    "pop.returns"
   ]
  }
 ],
 "metadata": {
  "kernelspec": {
   "display_name": "Python 3 (ipykernel)",
   "language": "python",
   "name": "python3"
  },
  "language_info": {
   "codemirror_mode": {
    "name": "ipython",
    "version": 3
   },
   "file_extension": ".py",
   "mimetype": "text/x-python",
   "name": "python",
   "nbconvert_exporter": "python",
   "pygments_lexer": "ipython3",
   "version": "3.8.13"
  }
 },
 "nbformat": 4,
 "nbformat_minor": 5
}
