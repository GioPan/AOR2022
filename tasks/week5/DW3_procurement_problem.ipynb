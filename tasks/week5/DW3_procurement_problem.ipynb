{
 "cells": [
  {
   "cell_type": "markdown",
   "id": "b0eeac9a-1c5f-4fa6-81a4-31e49897f49f",
   "metadata": {},
   "source": [
    "# Procurement Problem -- Part I\n",
    "\n",
    "A company produces a product whose production requires a set of materials $\\mathcal{M}$.\n",
    "Producing one unit of the product requires $W_m$ units of material $m\\in\\mathcal{M}$.\n",
    "The company has to satisfy a demand $D$ of the product for the next term. \n",
    "The company is vertically integrated, meaning that they manufacture internally also the necessary materials. \n",
    "They do so at a set of facilities $\\mathcal{F}$. Particularly, each facility $f\\in\\mathcal{F}$ can produce several of the raw materials up to an upper bound $Q_{fm}$ units of material $m$ at a cost $C_{mf}$ per unit. The company is to decide (i) how much to produce of each raw material and (ii) at which factory in order to satisfy the demand of final product at the least cost.\n",
    "\n",
    "The problem can be formulated as follows:\n",
    "$$\n",
    "\\begin{align*}\n",
    "  \\min~&\\sum_{m\\in \\mathcal{M}}\\sum_{f\\in \\mathcal{F}}C_{mf}x_{mf}\\\\\n",
    "  \\text{s.t.}& x_{mf}  \\leq Q_{mf} & m\\in \\mathcal{M},f\\in \\mathcal{F}\\\\\n",
    "          &\\sum_{m\\in\\mathcal{M}}x_{fm} \\leq Q_f &f\\in\\mathcal{F}\\\\\n",
    "       &\\sum_{f\\in\\mathcal{F}}\\sum_{m\\in\\mathcal{M}}W_mx_{mf}\\geq D&\\\\\n",
    "       &x_{mf}\\geq 0&m\\in\\mathcal{M},f\\in\\mathcal{F}\n",
    "\\end{align*}\n",
    "$$\n",
    "\n",
    "- Q1. Identify the complicating constraint(s)\n",
    "- Q2. Provide an expression for the feasibility set of the subproblems (i.e., the sets $\\mathcal{S}_j$ of the lecture notes).\n",
    "- Q3. Provide the Dantzig-Wolfe reformulation where culumns represent solutions to individual subproblems\n",
    "- Q4. Provide the expression of a column\n",
    "- Q5. Provide the formulation of the subproblems\n",
    "- Q6. Provide the optimality criterion.\n",
    "\n"
   ]
  }
 ],
 "metadata": {
  "kernelspec": {
   "display_name": "Python 3 (ipykernel)",
   "language": "python",
   "name": "python3"
  },
  "language_info": {
   "codemirror_mode": {
    "name": "ipython",
    "version": 3
   },
   "file_extension": ".py",
   "mimetype": "text/x-python",
   "name": "python",
   "nbconvert_exporter": "python",
   "pygments_lexer": "ipython3",
   "version": "3.8.13"
  }
 },
 "nbformat": 4,
 "nbformat_minor": 5
}
