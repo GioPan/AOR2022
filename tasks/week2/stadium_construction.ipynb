{
 "cells": [
  {
   "cell_type": "markdown",
   "id": "bc3e8786-5aa5-4380-b286-36efd7f4b1fb",
   "metadata": {},
   "source": [
    "# Stadium Construction\n",
    "The town council plans to build a new stadium for the local rugby and football clubs.\n",
    "After the invitation to tender, a construction company is awarded the contract\n",
    "and wishes to complete the construction within the shortest possible time. \n",
    "The construction of the stadium requires the completion of a set of tasks  $\\mathcal{T}$, with each task characterized by a duration $D_t$. Furthermore, a set $\\mathcal{P}$ of precedences between tasks must be respected, where precedences are represented by tuples $(t_1,t_2)$ indicating that task $t_2$ is required in order to start task $t_1$. Your goal is to determine the earliest possible completion date for the construction?\n",
    "\n",
    "- Start by provide a general formulation of the problem\n",
    "- Provide the solution to the instance described in the data section below using Gurobi.\n"
   ]
  },
  {
   "cell_type": "code",
   "execution_count": 5,
   "id": "b06e5e50-03dd-4e54-83ea-93beecfb667f",
   "metadata": {},
   "outputs": [],
   "source": [
    "# Data\n",
    "from gurobipy import tuplelist\n",
    "tasks = [i for i in range(1,18+1)]\n",
    "durations = {1: 2,\n",
    "            2: 16,\n",
    "            3: 9,\n",
    "            4: 8,\n",
    "            5: 10,\n",
    "            6: 6,\n",
    "            7: 2,\n",
    "            8: 2,\n",
    "            9: 9,\n",
    "            10: 5,\n",
    "            11: 3,\n",
    "            12: 2,\n",
    "            13: 1,\n",
    "            14: 7,\n",
    "            15: 4,\n",
    "            16: 3,\n",
    "            17: 9,\n",
    "            18: 1}\n",
    "\n",
    "precedences = tuplelist([(2,1),(3,2),(4,2),(5,3),(6,4),(6,5),(7,4),(8,6),(9,4),(9,6),(10,4),(11,6),(12,9),(13,7),(14,2),\n",
    "                         (15,4),(15,14),(16,8), (16,11),(16,14),(15,11),(17,12),(18,17)])\n",
    "\n"
   ]
  }
 ],
 "metadata": {
  "kernelspec": {
   "display_name": "Python 3 (ipykernel)",
   "language": "python",
   "name": "python3"
  },
  "language_info": {
   "codemirror_mode": {
    "name": "ipython",
    "version": 3
   },
   "file_extension": ".py",
   "mimetype": "text/x-python",
   "name": "python",
   "nbconvert_exporter": "python",
   "pygments_lexer": "ipython3",
   "version": "3.8.13"
  }
 },
 "nbformat": 4,
 "nbformat_minor": 5
}
