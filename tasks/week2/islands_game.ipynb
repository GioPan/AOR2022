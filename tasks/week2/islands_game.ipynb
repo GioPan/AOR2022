{
 "cells": [
  {
   "cell_type": "markdown",
   "id": "0412a972-64b7-4bf8-871c-e9ff8d070453",
   "metadata": {},
   "source": [
    "# Islands Game\n",
    "The Islands Game is based on a grid of $n\\times n$ cells.\n",
    "The grid is partitioned into $n$ subsets of connected cells called *islands* as shown in the figure below.\n",
    "\n",
    "![grid](./grid.png) \n",
    "\n",
    "The game requires to place $n$ stars in the grid such that each row, each column, and each island contains exactly one star.\n",
    "Moreover, all cells surrounding a cell with a star (thus up to $8$ cells) must remain empty -- observe that this rule can only be observed on instances with $n>3$. An example solution is provided in the figure below.\n",
    "\n",
    "![sol](./sol.png)\n",
    "\n",
    "- Provide a mathematical programming formulation to find solutions to the game.\n",
    "- Complete the Python code provided below in order to solve the instances provide (instance1 through instance4).\n",
    "\n",
    "\n",
    "\n",
    "\n",
    "\n"
   ]
  },
  {
   "cell_type": "code",
   "execution_count": 2,
   "id": "e54a5771-a432-4e82-91e4-048872c6d328",
   "metadata": {},
   "outputs": [],
   "source": [
    "class IslandsGame:\n",
    "\n",
    "    def __init__(self,file:str):\n",
    "        '''\n",
    "        Reads the file in the argument and creates an instance of the game.\n",
    "        '''\n",
    "        self.islands = {}\n",
    "        with open(file) as f:\n",
    "            \n",
    "            # Reads the size of the game\n",
    "            self.N = int(f.readline())\n",
    "            \n",
    "            # Reads the island to which each cell belongs\n",
    "            for i in range(self.N):\n",
    "                for j in range(self.N):\n",
    "                    # We read the line\n",
    "                    line = f.readline()\n",
    "                    # The input of each line is of type i j k where k is the island\n",
    "                    # We split the line into the three values using the method split() which returns a list\n",
    "                    # of type [i,j,k]. We are interested in k, so we read the 3rd element of the list.\n",
    "                    island = int(line.split()[2])\n",
    "                    self.islands[(i,j)] = island\n",
    "                    \n",
    "    def print_summary(self):\n",
    "        '''\n",
    "        Prints information about the game.\n",
    "        '''\n",
    "        for i in range(self.N):\n",
    "            for j in range(self.N):\n",
    "                print(\"%3d \"% self.islands[(i,j)], end=\"\")\n",
    "            print()\n",
    "\n"
   ]
  },
  {
   "cell_type": "code",
   "execution_count": 3,
   "id": "06ef3e02-fb08-43fd-b51e-b4eccb04e963",
   "metadata": {},
   "outputs": [
    {
     "name": "stdout",
     "output_type": "stream",
     "text": [
      "  0   0   1   1 \n",
      "  0   0   1   2 \n",
      "  0   2   2   2 \n",
      "  3   3   3   3 \n"
     ]
    }
   ],
   "source": [
    "ig = IslandsGame(\"./instance_1.txt\")\n",
    "ig.print_summary()"
   ]
  }
 ],
 "metadata": {
  "kernelspec": {
   "display_name": "Python 3 (ipykernel)",
   "language": "python",
   "name": "python3"
  },
  "language_info": {
   "codemirror_mode": {
    "name": "ipython",
    "version": 3
   },
   "file_extension": ".py",
   "mimetype": "text/x-python",
   "name": "python",
   "nbconvert_exporter": "python",
   "pygments_lexer": "ipython3",
   "version": "3.8.13"
  }
 },
 "nbformat": 4,
 "nbformat_minor": 5
}
