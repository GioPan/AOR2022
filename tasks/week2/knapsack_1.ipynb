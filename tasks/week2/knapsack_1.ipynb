{
 "cells": [
  {
   "cell_type": "markdown",
   "id": "d92dbe35-6719-4879-90ba-985b4d0a7b09",
   "metadata": {},
   "source": [
    "# Knapsack v1\n",
    "Consider the $0-1$ knapsack problem in the *Classical Problems Library*.\n",
    "Assume the set of items $\\mathcal{I}$ contains two subsets, $\\mathcal{I}^A$ and $\\mathcal{I}^B$.\n",
    "If any of the items in $\\mathcal{I}^A$ is selected, then at least one of the elements in $\\mathcal{I}^B$ must be\n",
    "selected as well. \n",
    "- Adjust the formulation accordingly\n",
    "- Solve the instance reported below."
   ]
  },
  {
   "cell_type": "code",
   "execution_count": 1,
   "id": "d6910860-595e-459c-aca2-c6770ec9109e",
   "metadata": {},
   "outputs": [
    {
     "data": {
      "text/plain": [
       "([26, 31, 32, 41, 46], [11, 19, 29, 33, 35])"
      ]
     },
     "execution_count": 1,
     "metadata": {},
     "output_type": "execute_result"
    }
   ],
   "source": [
    "# Instance\n",
    "import random as r\n",
    "r.seed(1)\n",
    "n_items = 50\n",
    "rewards = [(5 + (r.random() * 5)) for i in range(n_items)]\n",
    "weights = [(2 + (r.random() * 4)) for i in range(n_items)]\n",
    "capacity = r.randint(180,220)\n",
    "# Randomly partitions the set of items\n",
    "set_A = []\n",
    "set_B = []\n",
    "for i in range(n_items):\n",
    "    n = r.randint(1,n_items)\n",
    "    if  n < n_items/10:\n",
    "        set_B.append(i)\n",
    "    else:\n",
    "        if n < n_items/5:\n",
    "            set_A.append(i)\n",
    "set_A, set_B"
   ]
  }
 ],
 "metadata": {
  "kernelspec": {
   "display_name": "Python 3 (ipykernel)",
   "language": "python",
   "name": "python3"
  },
  "language_info": {
   "codemirror_mode": {
    "name": "ipython",
    "version": 3
   },
   "file_extension": ".py",
   "mimetype": "text/x-python",
   "name": "python",
   "nbconvert_exporter": "python",
   "pygments_lexer": "ipython3",
   "version": "3.8.13"
  }
 },
 "nbformat": 4,
 "nbformat_minor": 5
}
