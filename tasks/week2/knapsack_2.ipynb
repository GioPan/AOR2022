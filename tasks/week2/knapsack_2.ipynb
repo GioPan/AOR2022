{
 "cells": [
  {
   "cell_type": "markdown",
   "id": "d92dbe35-6719-4879-90ba-985b4d0a7b09",
   "metadata": {},
   "source": [
    "# Knapsack v2\n",
    "Consider the $0-1$ knapsack problem in the *Classical Problems Library*.\n",
    "Consider a subset $\\mathcal{I}^A$ of $\\mathcal{I}$. If all the elements of $\\mathcal{I}^A$ are selected an activation cost $C^A$ must be paid. \n",
    "- Adjust the formulation accordingly\n",
    "- Solve the instance reported below."
   ]
  },
  {
   "cell_type": "code",
   "execution_count": 20,
   "id": "d6910860-595e-459c-aca2-c6770ec9109e",
   "metadata": {},
   "outputs": [
    {
     "data": {
      "text/plain": [
       "[9, 17, 27, 31, 33]"
      ]
     },
     "execution_count": 20,
     "metadata": {},
     "output_type": "execute_result"
    }
   ],
   "source": [
    "# Instance\n",
    "import random as r\n",
    "r.seed(1)\n",
    "n_items = 50\n",
    "rewards = [(5 + (r.random() * 5)) for i in range(n_items)]\n",
    "activation_cost = 20 + r.random() * 5\n",
    "weights = [(2 + (r.random() * 4)) for i in range(n_items)]\n",
    "capacity = r.randint(180,220)\n",
    "# Randomly partitions the set of items\n",
    "set_A = []\n",
    "for i in range(n_items):\n",
    "    n = r.randint(1,n_items)\n",
    "    if  n < n_items/10:\n",
    "        set_A.append(i)\n",
    "set_A"
   ]
  },
  {
   "cell_type": "code",
   "execution_count": 21,
   "id": "de5d4dd9-f860-4166-a9e2-9dad84def660",
   "metadata": {},
   "outputs": [],
   "source": [
    "class KnapsackProblem:\n",
    "\n",
    "    def __init__(self,n_items:int, capacity: int, rewards:list, weights:list, set_A: list,activation_cost:float):\n",
    "        self.n_items = n_items\n",
    "        self.capacity = capacity\n",
    "        self.rewards = rewards\n",
    "        self.weights = weights\n",
    "        self.set_A = set_A\n",
    "        self.activation_cost = activation_cost"
   ]
  }
 ],
 "metadata": {
  "kernelspec": {
   "display_name": "Python 3 (ipykernel)",
   "language": "python",
   "name": "python3"
  },
  "language_info": {
   "codemirror_mode": {
    "name": "ipython",
    "version": 3
   },
   "file_extension": ".py",
   "mimetype": "text/x-python",
   "name": "python",
   "nbconvert_exporter": "python",
   "pygments_lexer": "ipython3",
   "version": "3.8.13"
  }
 },
 "nbformat": 4,
 "nbformat_minor": 5
}
