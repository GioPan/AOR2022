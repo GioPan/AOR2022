{
 "cells": [
  {
   "cell_type": "markdown",
   "id": "6e0b8990-354f-4bf2-ad11-5c42dde36226",
   "metadata": {},
   "source": [
    "# Knapsack problem v3\n",
    "Consider the $0-1$ knapsack problem in the *Classical Problems Library*.\n",
    "Assume that the set of items is $\\mathcal{I}=\\{1,\\ldots,6\\}$ and the respective weights and rewards are presented in the table below. Assume also that the capacity of the knapsack is $50$.\n",
    "\n",
    "|Item|Weight|Reward|\n",
    "|---|---|---|\n",
    "|1 | 10|5|\n",
    " |   2 | 24|9 |\n",
    " |   3 | 25|8 |\n",
    " |   4 | 2| 1|\n",
    " |   5 | 15|7 |\n",
    " |   6 | 9| 6|\n",
    " |---|---|---|\n",
    " \n",
    "\n",
    "Consider the *covers* $\\mathcal{M}_1=\\{1,2,3\\}$ and $\\mathcal{M}_2=\\{1,2,5,6\\}$.\n",
    "- Which one of these are minimal covers?\n",
    "- If any of these is a minimal cover, can you come up with an extended cover?\n",
    "- Solve the LP relaxation of the knapsack problem with and without cover inequalities and describe (empirically) the effects of the covers on the LP relaxation bound and solution times.\n",
    "\n"
   ]
  }
 ],
 "metadata": {
  "kernelspec": {
   "display_name": "Python 3 (ipykernel)",
   "language": "python",
   "name": "python3"
  },
  "language_info": {
   "codemirror_mode": {
    "name": "ipython",
    "version": 3
   },
   "file_extension": ".py",
   "mimetype": "text/x-python",
   "name": "python",
   "nbconvert_exporter": "python",
   "pygments_lexer": "ipython3",
   "version": "3.8.13"
  }
 },
 "nbformat": 4,
 "nbformat_minor": 5
}
