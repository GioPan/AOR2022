{
 "cells": [
  {
   "cell_type": "markdown",
   "id": "f9220a96-1a64-4212-9764-ffb8096b5091",
   "metadata": {},
   "source": [
    "# Uranium Mine\n",
    "An opencast uranium mine is being prospected. Based on the results of some test drillings the mine has been subdivided into exploitation units called *blocks*. The pit is limited in the west\n",
    "by a village and in the east by a group of mountains. Taking into account these constraints, $18$ blocks of $10 000$ tonnes on three levels have been identified as shown in the figure.\n",
    "\n",
    "![mine](mine.png) \n",
    "\n",
    "To extract a block, three blocks of the level above it need to be extracted: the block immediately on top of it, and also, due to the constraints on the slope, the blocks to the right and to the left. As an example, to extract block $16$ one needs to extract blocks $10$, $11$ and $12$ before.\n",
    "\n",
    "It costs Euro $100$ per tonne to extract a block of level $1$, Euro $200$ per tonne for a block of level $2$, and Euro $300$ per tonne for a block of level $3$, with the exception for the hatched blocks that are formed of a very hard rock rich in quartz and cost Euro $1000$ per tonne. The only blocks that contain uranium are those displayed in a gray shade (1, 7, 10, 12, 17, 18). Their market value is $200$, $300$, $500$, $200$, $1000$, and Euro $1200$/tonne respectively.\n",
    "Block 18, although rich in ore, is made of the same hard rock as the other hatched blocks. Your goal is to determine which blocks should be extracted to maximize the total profit.\n",
    "\n",
    "- Provide a general formulation of the problem.\n",
    "- Solve the problem instance described in the text using Gurobi.\n"
   ]
  }
 ],
 "metadata": {
  "kernelspec": {
   "display_name": "Python 3 (ipykernel)",
   "language": "python",
   "name": "python3"
  },
  "language_info": {
   "codemirror_mode": {
    "name": "ipython",
    "version": 3
   },
   "file_extension": ".py",
   "mimetype": "text/x-python",
   "name": "python",
   "nbconvert_exporter": "python",
   "pygments_lexer": "ipython3",
   "version": "3.8.13"
  }
 },
 "nbformat": 4,
 "nbformat_minor": 5
}
