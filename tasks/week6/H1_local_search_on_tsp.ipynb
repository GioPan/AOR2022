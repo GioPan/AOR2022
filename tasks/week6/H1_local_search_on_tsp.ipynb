{
 "cells": [
  {
   "cell_type": "markdown",
   "id": "96927890-1701-499a-bac5-9ccdd5c8da44",
   "metadata": {},
   "source": [
    "# Local Search for the TSP\n",
    "\n",
    "Consider the classical Traveling Salesman Problem (TSP, see the Classical Problems Library). The class provided below represents the TSP. Objects of this class represent instances of the TSP.\n",
    "\n",
    "The data of the instances is provided in the files contained in the `tsp_instances` folder. For each instance we are given the data of the problem (files `*.tsp`) and the optimal solution, if exists (files`*.opt.tour`). The package `tsplib95` reads such files and makes its data available in a suitable Python object. The package is described here https://pypi.org/project/tsplib95/.\n",
    "\n",
    "The data of the instances is taken from a set of known benchmark instances (known as the TSPLIB 95 library)\n",
    "which are made available at this link http://comopt.ifi.uni-heidelberg.de/software/TSPLIB95/.\n",
    "In the TSPLIB there are several instances of various sizes. For several instances the library provides also the\n",
    "optimal solution, if it is known (some instances are so difficult that the optimal solution has not yet been found). In our example we will use a small instance for which we know the optimal solution.\n",
    "\n",
    "- Q1. Find solutions to the given instance of the TSP using a local search algorithm\n",
    "- Q2. Compare the solution you obtain to the optimal solution (the optimal solution and its cost are given by the class below). "
   ]
  },
  {
   "cell_type": "code",
   "execution_count": 2,
   "id": "3b0c9417-aa98-4b1b-9115-a5e834e7886c",
   "metadata": {},
   "outputs": [
    {
     "name": "stdout",
     "output_type": "stream",
     "text": [
      "Requirement already satisfied: wrapt in /opt/conda/envs/python3/lib/python3.8/site-packages (1.14.1)\n",
      "Note: you may need to restart the kernel to use updated packages.\n"
     ]
    }
   ],
   "source": [
    "%pip install wrapt\n",
    "import tsplib95\n",
    "\n",
    "\n",
    "class TSP:\n",
    "\n",
    "    def __init__(self,instance_name:str, optimal_tour:str):\n",
    "        '''\n",
    "        Generates the data of the instance given the name of the file\n",
    "        containing the data of the instance and the name of the file containing the optimal solution.\n",
    "        '''\n",
    "        self.data = tsplib95.load('tsp_instances/'+ instance_name)\n",
    "        self.optimal_tour = tsplib95.load('tsp_instances/' + optimal_tour)\n",
    "\n",
    "    def get_nodes(self):\n",
    "        '''\n",
    "        Returns the list of nodes.\n",
    "        '''\n",
    "        return list(self.data.get_nodes())\n",
    "\n",
    "    def get_n_nodes(self):\n",
    "        return len(self.get_nodes())\n",
    "\n",
    "    def get_distances(self):\n",
    "        '''\n",
    "        Returns the distances matrix.\n",
    "        '''\n",
    "        return self.data.edge_weights\n",
    "\n",
    "    def get_distance(self,i:int,j:int):\n",
    "        '''\n",
    "        Returns the distance between given nodes i and j.\n",
    "        '''\n",
    "        return self.data.get_weight(i,j)\n",
    "\n",
    "    def get_node_coordinates(self,i:int):\n",
    "        '''\n",
    "        Returns the coordinates of the nodes.\n",
    "        '''\n",
    "        print(self.data.node_coords)\n",
    "\n",
    "    def get_n_optimal_tours(self):\n",
    "        '''\n",
    "        Returns the list of optimal tours (there may be more than one, though often only one).\n",
    "        '''\n",
    "        return len(self.optimal_tour.tours)\n",
    "\n",
    "    def get_optimal_tour(self,n_tour=0):\n",
    "        '''\n",
    "        Returns a specific optimal tour (with no arguments returns the first).\n",
    "        '''\n",
    "        return self.optimal_tour.tours[n_tour]\n",
    "\n",
    "    def get_optimal_tour_length(self,n_tour=0):\n",
    "        '''\n",
    "        Returns the length (objective value) of an optimal tour (default the first tour).\n",
    "        '''\n",
    "        return self.get_tour_length(self.optimal_tour.tours[n_tour])\n",
    "\n",
    "    def get_tour_length(self, tour:list):\n",
    "        '''\n",
    "        Calculates the length (objective value) of a tour we pass as an argument.\n",
    "        Note that the tour is first added to a list since the method trace_tours accepts only lists of tours.\n",
    "        '''\n",
    "        tour_list = [tour]\n",
    "        return self.data.trace_tours(tour_list)[0]\n"
   ]
  },
  {
   "cell_type": "markdown",
   "id": "b8a416ad-a301-4029-92bd-067b543d71f8",
   "metadata": {},
   "source": [
    "We create a small TSP instance"
   ]
  },
  {
   "cell_type": "code",
   "execution_count": 3,
   "id": "24b12eaa-6212-4559-88eb-6aca0b90aa0b",
   "metadata": {},
   "outputs": [],
   "source": [
    "tsp = TSP(\"bays29.tsp\",\"bays29.opt.tour\")"
   ]
  },
  {
   "cell_type": "code",
   "execution_count": 4,
   "id": "affa0828-fb72-4cd2-a700-4d01a162c432",
   "metadata": {},
   "outputs": [
    {
     "data": {
      "text/plain": [
       "[1,\n",
       " 28,\n",
       " 6,\n",
       " 12,\n",
       " 9,\n",
       " 5,\n",
       " 26,\n",
       " 29,\n",
       " 3,\n",
       " 2,\n",
       " 20,\n",
       " 10,\n",
       " 4,\n",
       " 15,\n",
       " 18,\n",
       " 17,\n",
       " 14,\n",
       " 22,\n",
       " 11,\n",
       " 19,\n",
       " 25,\n",
       " 7,\n",
       " 23,\n",
       " 27,\n",
       " 8,\n",
       " 24,\n",
       " 16,\n",
       " 13,\n",
       " 21]"
      ]
     },
     "execution_count": 4,
     "metadata": {},
     "output_type": "execute_result"
    }
   ],
   "source": [
    "tsp.get_optimal_tour()"
   ]
  },
  {
   "cell_type": "code",
   "execution_count": 5,
   "id": "4183491f-c53a-47b7-b387-df8af85cacaa",
   "metadata": {},
   "outputs": [
    {
     "data": {
      "text/plain": [
       "2020"
      ]
     },
     "execution_count": 5,
     "metadata": {},
     "output_type": "execute_result"
    }
   ],
   "source": [
    "tsp.get_optimal_tour_length()"
   ]
  },
  {
   "cell_type": "markdown",
   "id": "fad10944-c612-43fc-9699-f5ebc6e8c68b",
   "metadata": {},
   "source": [
    "# Solution"
   ]
  }
 ],
 "metadata": {
  "kernelspec": {
   "display_name": "Python 3 (ipykernel)",
   "language": "python",
   "name": "python3"
  },
  "language_info": {
   "codemirror_mode": {
    "name": "ipython",
    "version": 3
   },
   "file_extension": ".py",
   "mimetype": "text/x-python",
   "name": "python",
   "nbconvert_exporter": "python",
   "pygments_lexer": "ipython3",
   "version": "3.8.13"
  }
 },
 "nbformat": 4,
 "nbformat_minor": 5
}
