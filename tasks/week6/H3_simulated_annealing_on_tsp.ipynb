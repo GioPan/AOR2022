{
 "cells": [
  {
   "cell_type": "markdown",
   "id": "96927890-1701-499a-bac5-9ccdd5c8da44",
   "metadata": {},
   "source": [
    "# Simulated Annealing for the TSP\n",
    "\n",
    "Consider the TSP introduced in the Classical Problems Library. Below you find a class that generates instances of the TSP.\n",
    "\n",
    "- Q1. Obtain solutions to the TSP using the Simulated Annealing heuristic.\n",
    "- Q2. Compare the objective value of solution obtained to the optimal objective value. The optimal objective value is provided by the `TSP` class."
   ]
  },
  {
   "cell_type": "markdown",
   "id": "991b083c-63c3-42de-9d0c-20f37d087ce0",
   "metadata": {},
   "source": [
    "## TSP class"
   ]
  },
  {
   "cell_type": "code",
   "execution_count": 2,
   "id": "3b0c9417-aa98-4b1b-9115-a5e834e7886c",
   "metadata": {},
   "outputs": [
    {
     "name": "stdout",
     "output_type": "stream",
     "text": [
      "Requirement already satisfied: wrapt in /opt/conda/envs/python3/lib/python3.8/site-packages (1.14.1)\n",
      "Note: you may need to restart the kernel to use updated packages.\n"
     ]
    }
   ],
   "source": [
    "%pip install wrapt\n",
    "import tsplib95\n",
    "\n",
    "class TSP:\n",
    "\n",
    "    def __init__(self,instance_name:str, optimal_tour:str):\n",
    "        '''\n",
    "        Generates the data of the instance given the name of the file\n",
    "        containing the data of the instance and the name of the file containing the optimal solution.\n",
    "        '''\n",
    "        self.data = tsplib95.load('tsp_instances/'+ instance_name)\n",
    "        self.optimal_tour = tsplib95.load('tsp_instances/' + optimal_tour)\n",
    "\n",
    "    def get_nodes(self):\n",
    "        '''\n",
    "        Returns the list of nodes.\n",
    "        '''\n",
    "        return list(self.data.get_nodes())\n",
    "\n",
    "    def get_n_nodes(self):\n",
    "        return len(self.get_nodes())\n",
    "\n",
    "    def get_distances(self):\n",
    "        '''\n",
    "        Returns the distances matrix.\n",
    "        '''\n",
    "        return self.data.edge_weights\n",
    "\n",
    "    def get_distance(self,i:int,j:int):\n",
    "        '''\n",
    "        Returns the distance between given nodes i and j.\n",
    "        '''\n",
    "        return self.data.get_weight(i,j)\n",
    "\n",
    "    def get_node_coordinates(self,i:int):\n",
    "        '''\n",
    "        Returns the coordinates of the nodes.\n",
    "        '''\n",
    "        print(self.data.node_coords)\n",
    "\n",
    "    def get_n_optimal_tours(self):\n",
    "        '''\n",
    "        Returns the list of optimal tours (there may be more than one, though often only one).\n",
    "        '''\n",
    "        return len(self.optimal_tour.tours)\n",
    "\n",
    "    def get_optimal_tour(self,n_tour=0):\n",
    "        '''\n",
    "        Returns a specific optimal tour (with no arguments returns the first).\n",
    "        '''\n",
    "        return self.optimal_tour.tours[n_tour]\n",
    "\n",
    "    def get_optimal_tour_length(self,n_tour=0):\n",
    "        '''\n",
    "        Returns the length (objective value) of an optimal tour (default the first tour).\n",
    "        '''\n",
    "        return self.get_tour_length(self.optimal_tour.tours[n_tour])\n",
    "\n",
    "    def get_tour_length(self, tour:list):\n",
    "        '''\n",
    "        Calculates the length (objective value) of a tour we pass as an argument.\n",
    "        Note that the tour is first added to a list since the method trace_tours accepts only lists of tours.\n",
    "        '''\n",
    "        tour_list = [tour]\n",
    "        return self.data.trace_tours(tour_list)[0]\n"
   ]
  },
  {
   "cell_type": "markdown",
   "id": "b8a416ad-a301-4029-92bd-067b543d71f8",
   "metadata": {
    "tags": []
   },
   "source": [
    "We create a small TSP instance"
   ]
  },
  {
   "cell_type": "code",
   "execution_count": 4,
   "id": "24b12eaa-6212-4559-88eb-6aca0b90aa0b",
   "metadata": {},
   "outputs": [],
   "source": [
    "tsp = TSP(\"bays29.tsp\",\"bays29.opt.tour\")"
   ]
  },
  {
   "cell_type": "code",
   "execution_count": 5,
   "id": "cb0c51b4-3f98-47fd-90a7-2902912d05a6",
   "metadata": {},
   "outputs": [
    {
     "data": {
      "text/plain": [
       "2020"
      ]
     },
     "execution_count": 5,
     "metadata": {},
     "output_type": "execute_result"
    }
   ],
   "source": [
    "tsp.get_optimal_tour_length()"
   ]
  },
  {
   "cell_type": "code",
   "execution_count": 6,
   "id": "cadc4f77-27cf-44e3-8719-14b5e370de54",
   "metadata": {},
   "outputs": [
    {
     "data": {
      "text/plain": [
       "[1,\n",
       " 28,\n",
       " 6,\n",
       " 12,\n",
       " 9,\n",
       " 5,\n",
       " 26,\n",
       " 29,\n",
       " 3,\n",
       " 2,\n",
       " 20,\n",
       " 10,\n",
       " 4,\n",
       " 15,\n",
       " 18,\n",
       " 17,\n",
       " 14,\n",
       " 22,\n",
       " 11,\n",
       " 19,\n",
       " 25,\n",
       " 7,\n",
       " 23,\n",
       " 27,\n",
       " 8,\n",
       " 24,\n",
       " 16,\n",
       " 13,\n",
       " 21]"
      ]
     },
     "execution_count": 6,
     "metadata": {},
     "output_type": "execute_result"
    }
   ],
   "source": [
    "tsp.get_optimal_tour()"
   ]
  },
  {
   "cell_type": "code",
   "execution_count": null,
   "id": "ae0994cf-c817-408b-93cd-eeb412dc64d2",
   "metadata": {},
   "outputs": [],
   "source": []
  }
 ],
 "metadata": {
  "kernelspec": {
   "display_name": "Python 3 (ipykernel)",
   "language": "python",
   "name": "python3"
  },
  "language_info": {
   "codemirror_mode": {
    "name": "ipython",
    "version": 3
   },
   "file_extension": ".py",
   "mimetype": "text/x-python",
   "name": "python",
   "nbconvert_exporter": "python",
   "pygments_lexer": "ipython3",
   "version": "3.8.13"
  }
 },
 "nbformat": 4,
 "nbformat_minor": 5
}
