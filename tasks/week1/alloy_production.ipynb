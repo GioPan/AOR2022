{
 "cells": [
  {
   "cell_type": "markdown",
   "id": "e9bd3fa8-8692-4370-a048-f6af341c2fbc",
   "metadata": {},
   "source": [
    "# Production of alloy\n",
    "The company *Steel* has received an order for $D$ tonnes of steel to be used in shipbuilding.\n",
    "The company has a set $\\mathcal{M}$ of different raw materials in stock that may be used for the production of this steel. \n",
    "Each raw material is available in an amount of $A_m$ tonnes, $m\\in\\mathcal{M}$, and has a cost of $C_m$, $m\\in\\mathcal{M}$ Euro/tonne. \n",
    "The steel to produce must have certain characteristics (‘grades’). That is, given a set $\\mathcal{K}$ of chemicals, the steel must not contain more than a certain percentage \n",
    "$P^{Max}_k$ of chemical $k$ and less than a certain percentage $P^{Min}_k$. Each raw material $m$ has a known percentage $P_{mk}$ of chemical $k$.\n",
    "The objective is to determine the composition of the steel that minimizes the production cost.\n",
    "- Provide a general formulation for the problem.\n",
    "- Find the optimal solution to the problem instance described below using Gurobi."
   ]
  },
  {
   "cell_type": "code",
   "execution_count": 1,
   "id": "ce60ab67-03bf-4bbb-96ee-7611787645ad",
   "metadata": {},
   "outputs": [],
   "source": [
    "# Instance\n",
    "steel_demand = 500\n",
    "chemicals = ['carbon','copper','manganese']\n",
    "materials = ['iron1','iron2','iron3', 'copper1','copper2','alumin1','alumin2']\n",
    "min_grade = {'carbon':2, 'copper':0.4, 'manganese':1.2}\n",
    "max_grade = {'carbon':3, 'copper':0.6, 'manganese':1.65}\n",
    "availability = {'iron1':400, 'iron2':300, 'iron3':600, 'copper1':500,'copper2':200,'alumin1':300,'alumin2':250}\n",
    "cost = {'iron1':200, 'iron2':250, 'iron3':150, 'copper1':220,'copper2':240,'alumin1':200,'alumin2':165}\n",
    "content = {('carbon','iron1'):2.5,\n",
    "           ('carbon','iron2'):3.0,\n",
    "           ('carbon','iron3'):0,\n",
    "           ('carbon','copper1'):0,\n",
    "           ('carbon','copper2'):0,\n",
    "           ('carbon','alumin1'):0,\n",
    "           ('carbon','alumin2'):0,\n",
    "           ('copper','iron1'):0,\n",
    "           ('copper','iron2'):0,\n",
    "           ('copper','iron3'):0.3,\n",
    "           ('copper','copper1'):90,\n",
    "           ('copper','copper2'):96,\n",
    "           ('copper','alumin1'):0.4,\n",
    "           ('copper','alumin2'):0.6,\n",
    "           ('manganese','iron1'):1.3,\n",
    "           ('manganese','iron2'):0.8,\n",
    "           ('manganese','iron3'):0,\n",
    "           ('manganese','copper1'):0,\n",
    "           ('manganese','copper2'):4,\n",
    "           ('manganese','alumin1'):1.2,\n",
    "           ('manganese','alumin2'):0\n",
    "           }\n"
   ]
  },
  {
   "cell_type": "code",
   "execution_count": null,
   "id": "242fbd7e-f2eb-4090-8b4f-4fd508ed9fbe",
   "metadata": {},
   "outputs": [],
   "source": []
  },
  {
   "cell_type": "code",
   "execution_count": null,
   "id": "2cf5c943-875f-421a-af1b-2247a3349543",
   "metadata": {},
   "outputs": [],
   "source": []
  },
  {
   "cell_type": "code",
   "execution_count": null,
   "id": "3e7568a6-40b8-4bed-a53f-03e8fc9df83f",
   "metadata": {},
   "outputs": [],
   "source": []
  }
 ],
 "metadata": {
  "kernelspec": {
   "display_name": "Python 3 (ipykernel)",
   "language": "python",
   "name": "python3"
  },
  "language_info": {
   "codemirror_mode": {
    "name": "ipython",
    "version": 3
   },
   "file_extension": ".py",
   "mimetype": "text/x-python",
   "name": "python",
   "nbconvert_exporter": "python",
   "pygments_lexer": "ipython3",
   "version": "3.8.13"
  }
 },
 "nbformat": 4,
 "nbformat_minor": 5
}
