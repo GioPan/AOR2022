{
 "cells": [
  {
   "cell_type": "markdown",
   "id": "26f4c27e-26c6-477d-a5bf-2bc62fb73f9a",
   "metadata": {},
   "source": [
    "# The refrigerators dealer\n",
    "An appliance dealer sells small refrigerators in the college market. \n",
    "This July, 25 units are on hand. For the next 3 months, the dealer can buy from the manufacturer up to 65 refrigerators each month, and can sell to the students up to 100 units each month at the prices in the table below. \n",
    "\n",
    "| Month  |Buy   | Sell  |\n",
    "|---|---|---|\n",
    "| Aug  | 60  | 90  | \n",
    "| Sep  | 65  | 110  |\n",
    "|  Oct | 68  | 105  |\n",
    "\n",
    "The dealer has storage facilities for 45 units but must pay a $7/unit/month storage charge for each refrigerator stored. Determine an optimal buying, selling, and storing plan. \n",
    "- Provide a mathematical formulation\n",
    "- Solve the problem using Gurobi"
   ]
  },
  {
   "cell_type": "code",
   "execution_count": null,
   "id": "db028ad0-d61a-45b6-b12c-296e132b7f7f",
   "metadata": {},
   "outputs": [],
   "source": []
  }
 ],
 "metadata": {
  "kernelspec": {
   "display_name": "Python 3 (ipykernel)",
   "language": "python",
   "name": "python3"
  },
  "language_info": {
   "codemirror_mode": {
    "name": "ipython",
    "version": 3
   },
   "file_extension": ".py",
   "mimetype": "text/x-python",
   "name": "python",
   "nbconvert_exporter": "python",
   "pygments_lexer": "ipython3",
   "version": "3.8.13"
  }
 },
 "nbformat": 4,
 "nbformat_minor": 5
}
