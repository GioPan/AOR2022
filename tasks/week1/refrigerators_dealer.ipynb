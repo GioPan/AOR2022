{
 "cells": [
  {
   "cell_type": "markdown",
   "id": "26f4c27e-26c6-477d-a5bf-2bc62fb73f9a",
   "metadata": {},
   "source": [
    "# The refrigerators dealer\n",
    "An appliance dealer sells small refrigerators in the college market. \n",
    "This July, 25 units are on hand. For the next 3 months, the dealer can buy from the manufacturer up to 65 refrigerators each month, and can sell to the students up to 100 units each month at the prices in the table below. \n",
    "| Month  |Buy   | Sell  |\n",
    "|---|---|---|\n",
    "| Aug  | 60  | 90  | \n",
    "| Sep  | 65  | 110  |\n",
    "|  Oct | 68  | 105  |\n",
    "The dealer has storage facilities for 45 units but must pay a $7/unit/month storage charge for each refrigerator stored. Determine an optimal buying, selling, and storing plan. \n",
    "- Provide a mathematical formulation\n",
    "- Solve the problem using Gurobi"
   ]
  },
  {
   "cell_type": "markdown",
   "id": "44d37cae-6fde-41fd-8bfe-36cfd9f5ea12",
   "metadata": {},
   "source": [
    "# Solution\n",
    "Let $i \\in \\{1, 2, 3\\}$ be the month, and $b_i$,$s_i$, $k_i$ the number of refrigerators bought, sold, and stored, respectively in month $i$. The problem can be formulated as follows:\n",
    "$$\\begin{align}\\max & 90s_1 + 110s_2 + 105s_3 −60b_1 −65b_2 −68b_3 + 7(k_1 + k_2 + k_3) \\\\\n",
    "\\text{s.t.}& k_1 = 25 + b_1 −s_1\\\\\n",
    "&k_2 = k_1 + b_2 −s_2 \\\\\n",
    "&k_3 = k_2 + b_3 −s_3\\\\ \n",
    "&b_1\\leq 65 \\\\\n",
    "&b_2 \\leq65 \\\\\n",
    "&b_3 \\leq65 \\\\\n",
    "&s_1 \\leq100 \\\\\n",
    "&s_2 \\leq100 \\\\\n",
    "&s_3 \\leq100 \\\\\n",
    "&k_1 \\leq45\\\\ \n",
    "&k_2 \\leq45 \\\\\n",
    "&k_3 \\leq 45 \\\\\n",
    "&b_i, s_i, k_i \\geq 0, \\forall i \\in\\{1, 2, 3\\}\n",
    "\\end{align}\n",
    "$$\n"
   ]
  },
  {
   "cell_type": "markdown",
   "id": "4d96c509-e7d4-4ea7-be19-7dc1d6ed7e23",
   "metadata": {},
   "source": [
    "To solve the problem, first we import the necessary elements."
   ]
  },
  {
   "cell_type": "code",
   "execution_count": 1,
   "id": "d3a484df-cc49-4d71-9441-c3bd4afd57b4",
   "metadata": {},
   "outputs": [],
   "source": [
    "from gurobipy import GRB, Model"
   ]
  },
  {
   "cell_type": "markdown",
   "id": "147901d3-5203-4868-9612-33dbde830cc4",
   "metadata": {},
   "source": [
    "Then we create the data."
   ]
  },
  {
   "cell_type": "code",
   "execution_count": 2,
   "id": "d7424952-f675-4c4f-857e-26cad6fd9d6a",
   "metadata": {},
   "outputs": [],
   "source": [
    "months = [8,9,10]\n",
    "cost = {8:60,9:65,10:68}\n",
    "price = {8:90,9:110,10:105}\n",
    "max_buy = 65\n",
    "max_sell = 100\n",
    "storage_capacity = 45\n",
    "storage_cost = 7\n",
    "current_stock = 25"
   ]
  },
  {
   "cell_type": "markdown",
   "id": "081f7999-7534-45bc-8234-4493c1be696d",
   "metadata": {},
   "source": [
    "We create the Model object"
   ]
  },
  {
   "cell_type": "code",
   "execution_count": 3,
   "id": "38c86038-a463-4bd3-ac5e-310b6904edea",
   "metadata": {},
   "outputs": [
    {
     "name": "stdout",
     "output_type": "stream",
     "text": [
      "Restricted license - for non-production use only - expires 2023-10-25\n"
     ]
    }
   ],
   "source": [
    "m = Model('ref')"
   ]
  },
  {
   "cell_type": "markdown",
   "id": "ff70b730-12fe-4904-952c-c2f59ca75409",
   "metadata": {},
   "source": [
    "We add the decision variables"
   ]
  },
  {
   "cell_type": "code",
   "execution_count": 4,
   "id": "d24c937f-1aaa-46c9-a5b0-fc3b6712767b",
   "metadata": {},
   "outputs": [],
   "source": [
    "b = m.addVars(months,lb=0,ub=max_buy,vtype=GRB.CONTINUOUS,name=\"b\")\n",
    "s = m.addVars(months,lb=0,ub=max_sell,vtype=GRB.CONTINUOUS,name = \"s\")\n",
    "k = m.addVars(months,lb=0,ub=storage_capacity,vtype=GRB.CONTINUOUS,name=\"k\")"
   ]
  },
  {
   "cell_type": "markdown",
   "id": "8988b5ea-2940-46a2-a813-5dce11f93579",
   "metadata": {},
   "source": [
    "Now the objective function"
   ]
  },
  {
   "cell_type": "code",
   "execution_count": 5,
   "id": "a86047cd-49f4-40a2-b4be-4bce9ae35f41",
   "metadata": {},
   "outputs": [],
   "source": [
    "expr = 0\n",
    "for i in months:\n",
    "    expr = expr + price[i] * s[i] - cost[i] * b[i] - storage_cost * k[i]\n",
    "m.setObjective(expr,sense=GRB.MAXIMIZE)"
   ]
  },
  {
   "cell_type": "markdown",
   "id": "269c444e-1211-43e5-acf0-1a5679d31fa2",
   "metadata": {},
   "source": [
    "And the constraints"
   ]
  },
  {
   "cell_type": "code",
   "execution_count": 6,
   "id": "91ed8fc1-d21c-407d-997b-38421ff9a058",
   "metadata": {},
   "outputs": [],
   "source": [
    "for i in months:\n",
    "    if i == 8:\n",
    "        m.addConstr(k[i]-b[i]+s[i] == current_stock)\n",
    "    else:\n",
    "        m.addConstr(k[i]-k[i-1] - b[i]+s[i] == 0)"
   ]
  },
  {
   "cell_type": "markdown",
   "id": "7879f5f2-87aa-419b-b106-cc6ef66d3498",
   "metadata": {},
   "source": [
    "Finally, we optimize"
   ]
  },
  {
   "cell_type": "code",
   "execution_count": 7,
   "id": "315f2366-9cda-4974-bc85-483f50f09ee6",
   "metadata": {},
   "outputs": [
    {
     "name": "stdout",
     "output_type": "stream",
     "text": [
      "Gurobi Optimizer version 9.5.1 build v9.5.1rc2 (linux64)\n",
      "Thread count: 128 physical cores, 128 logical processors, using up to 32 threads\n",
      "Optimize a model with 3 rows, 9 columns and 11 nonzeros\n",
      "Model fingerprint: 0xabc59fad\n",
      "Coefficient statistics:\n",
      "  Matrix range     [1e+00, 1e+00]\n",
      "  Objective range  [7e+00, 1e+02]\n",
      "  Bounds range     [4e+01, 1e+02]\n",
      "  RHS range        [2e+01, 2e+01]\n",
      "Presolve removed 1 rows and 4 columns\n",
      "Presolve time: 0.03s\n",
      "Presolved: 2 rows, 5 columns, 6 nonzeros\n",
      "\n",
      "Iteration    Objective       Primal Inf.    Dual Inf.      Time\n",
      "       0    2.1475000e+04   1.687500e+01   0.000000e+00      0s\n",
      "       4    9.9950000e+03   0.000000e+00   0.000000e+00      0s\n",
      "\n",
      "Solved in 4 iterations and 0.11 seconds (0.00 work units)\n",
      "Optimal objective  9.995000000e+03\n"
     ]
    }
   ],
   "source": [
    "m.optimize()"
   ]
  },
  {
   "cell_type": "markdown",
   "id": "08977b8c-5dd7-43bd-a2de-fb8b677a0e9c",
   "metadata": {},
   "source": [
    "And we print the solution"
   ]
  },
  {
   "cell_type": "code",
   "execution_count": 8,
   "id": "a223c54f-2a54-472c-a8b6-706b69768bb9",
   "metadata": {},
   "outputs": [
    {
     "name": "stdout",
     "output_type": "stream",
     "text": [
      "Objective value: 9995\n",
      "b[8] 65\n",
      "b[9] 65\n",
      "b[10] 65\n",
      "s[8] 45\n",
      "s[9] 100\n",
      "s[10] 75\n",
      "k[8] 45\n",
      "k[9] 10\n",
      "k[10] 0\n"
     ]
    }
   ],
   "source": [
    "print('Objective value: %g' % m.objVal)\n",
    "for v in m.getVars():\n",
    "    print('%s %g' % (v.varName, v.x))"
   ]
  },
  {
   "cell_type": "markdown",
   "id": "f7d0cf64-e7fc-4fa6-8c98-046290f7b1c3",
   "metadata": {},
   "source": [
    "The optimal solution has a total profit of \\$9995 and consists of selling 45 refrigerators in August, 100 in\n",
    "September and 75 in October, to buy 65 refrigerators in each month, and to store 45 refrigerators in August\n",
    "and 10 in September."
   ]
  },
  {
   "cell_type": "code",
   "execution_count": null,
   "id": "75a635af-29b6-41f3-bc5d-25d8a2b80d5c",
   "metadata": {},
   "outputs": [],
   "source": []
  }
 ],
 "metadata": {
  "kernelspec": {
   "display_name": "Python 3 (ipykernel)",
   "language": "python",
   "name": "python3"
  },
  "language_info": {
   "codemirror_mode": {
    "name": "ipython",
    "version": 3
   },
   "file_extension": ".py",
   "mimetype": "text/x-python",
   "name": "python",
   "nbconvert_exporter": "python",
   "pygments_lexer": "ipython3",
   "version": "3.8.13"
  }
 },
 "nbformat": 4,
 "nbformat_minor": 5
}
