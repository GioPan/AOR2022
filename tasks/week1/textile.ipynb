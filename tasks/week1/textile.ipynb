{
 "cells": [
  {
   "cell_type": "markdown",
   "id": "67405b82-e3f2-4ede-99d8-7ff60e6cb528",
   "metadata": {},
   "source": [
    "# Textile Company\n",
    "A textile company produces two types of fabric for the fashion industry, *plain* and *patterned* fabric.\n",
    "The fabrics are woven from wool on a loom and are finished by hand labor.\n",
    "A square meter of plain fabric requires $0.3$ Kg of wool, $6$ min of loom time, and $3$ hr of finishing\n",
    "labor; a square meeter of patterned fabric requires $0.5$ Kg of wool, $5$ min of loom time, and $5$ hr of finishing labor.\n",
    "\n",
    "For the next 3 months the company can procure up to 20 Kg of wool at the price of $\\$$ 3/Kg, 5 hr of loom time at the price of $\\$$ 3/minute, and 200 hr of labor at the price of $\\$$ 10/hour. \n",
    "The company realizes a $\\$$ 60/$m^2$ profit on the sale of plain fabric and a $\\$$ 65/ $m^2$ profit on the sale of patterned fabric.\n",
    "Assuming that all the fabric produced can be sold, determine how much of each type should the company produce in the next $3$ months, and how much inputs should be procured in order to maximize profits.\n",
    "\n",
    "\n",
    "- Provide a mathematical formulation for the instance of the problem described in the text\n",
    "- Find a solution using Gurobi\n"
   ]
  }
 ],
 "metadata": {
  "kernelspec": {
   "display_name": "Python 3 (ipykernel)",
   "language": "python",
   "name": "python3"
  },
  "language_info": {
   "codemirror_mode": {
    "name": "ipython",
    "version": 3
   },
   "file_extension": ".py",
   "mimetype": "text/x-python",
   "name": "python",
   "nbconvert_exporter": "python",
   "pygments_lexer": "ipython3",
   "version": "3.8.13"
  }
 },
 "nbformat": 4,
 "nbformat_minor": 5
}
