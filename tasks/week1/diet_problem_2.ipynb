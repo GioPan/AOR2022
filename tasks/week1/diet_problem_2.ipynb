{
 "cells": [
  {
   "cell_type": "markdown",
   "id": "57cf29fe-fef5-4a76-844d-443139b62885",
   "metadata": {},
   "source": [
    "# Diet Problem Version 2 \n",
    "We wish to minimize the cost of meeting our daily requirements of *proteins*, *vitamin C*, and *iron* with a diet restricted to *apples*, *bananas*, *carrots*, *dates*, and *eggs*. The table below provides the cost and nutritional values of each type of food. We assume our daily diet requires at least 70g of proteins, 50mg of Vitamin C, and 12mg of iron. We also assume the supply of food is unlimited. Furthermore, assume that at most three of the foods can be used.\n",
    "\n",
    "|Food |Protein | Vitamin| Iron| Cost|\n",
    "|:----:|:----:|:----|:----:|:----:|\n",
    "|Apples | 0.4 | 6 | 0.4 | 8|\n",
    "|Bananas | 1.2 | 10 | 0.6 | 10 |\n",
    "|Carrots | 0.6 | 3 | 0.4 | 3 |\n",
    "|Dates | 0.6 | 1 | 0.2 | 20 |\n",
    "|Eggs | 12.2 | 0 | 2.6 | 15 |\n",
    "- Provide a mathematical formulation of the problem\n",
    "- Find a solution to the problem using Gurobi\n"
   ]
  }
 ],
 "metadata": {
  "kernelspec": {
   "display_name": "Python 3 (ipykernel)",
   "language": "python",
   "name": "python3"
  },
  "language_info": {
   "codemirror_mode": {
    "name": "ipython",
    "version": 3
   },
   "file_extension": ".py",
   "mimetype": "text/x-python",
   "name": "python",
   "nbconvert_exporter": "python",
   "pygments_lexer": "ipython3",
   "version": "3.8.13"
  }
 },
 "nbformat": 4,
 "nbformat_minor": 5
}
