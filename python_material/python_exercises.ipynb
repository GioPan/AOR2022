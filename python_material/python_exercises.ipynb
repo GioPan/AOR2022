{
 "cells": [
  {
   "cell_type": "markdown",
   "id": "2f5ea69f-11ef-44e0-b37b-d52281cca05b",
   "metadata": {},
   "source": [
    "# Python exercises\n",
    "Complete the following exercises to test your python skills."
   ]
  },
  {
   "cell_type": "markdown",
   "id": "b515db50-c6ce-44bf-b759-9f2a689999fa",
   "metadata": {},
   "source": [
    "## Exercise 1\n",
    "Complete the following function such that it returns a dictionary which associates a number to each letter of the alphabet.\n",
    "As an example, it associates $1$ to A, $2$ to B and so on."
   ]
  },
  {
   "cell_type": "code",
   "execution_count": 3,
   "id": "bd626bfa-5b76-4df9-9ba9-a0832f8a6af9",
   "metadata": {},
   "outputs": [
    {
     "data": {
      "text/plain": [
       "1"
      ]
     },
     "execution_count": 3,
     "metadata": {},
     "output_type": "execute_result"
    }
   ],
   "source": [
    "def get_alphabet_dictionary():\n",
    "    d = {'A':1,'B':2}\n",
    "    return d\n",
    "dic = get_alphabet_dictionary()\n",
    "dic['A']"
   ]
  },
  {
   "cell_type": "markdown",
   "id": "92e93aac-4916-46db-a012-1e404bc258d3",
   "metadata": {},
   "source": [
    "## Exercise 2\n",
    "Using the function `get_alphabeth_dictionary` complete the following function such that\n",
    "it receives a string as an argument and prints a numerical code obtained by replacing the letters of the string with their numerical value. As an example \"ABC\" should return \"123\". "
   ]
  },
  {
   "cell_type": "code",
   "execution_count": null,
   "id": "e8a3509d-d699-449f-b1de-7283d3af0b7f",
   "metadata": {},
   "outputs": [],
   "source": [
    "def get_code(s:str): \n",
    "    string = \"\"\n",
    "    # add to the string\n",
    "    return string"
   ]
  },
  {
   "cell_type": "markdown",
   "id": "cd7a75c4-3eb8-4fff-aa8a-09f7f5c7588b",
   "metadata": {},
   "source": [
    "## Exercise 3\n",
    "Using the function `get_alphabeth_dictionary` written above complete the following function such that\n",
    "it receives a string as an argument and returns a list which contains the numerical code of each letter of the string passed.\n",
    "As an example, if we pass \"ABC\" it must return `[1,2,3]`. Use list comprehension.\n"
   ]
  },
  {
   "cell_type": "code",
   "execution_count": null,
   "id": "883b913c-45eb-46c7-b128-37b540e3be14",
   "metadata": {},
   "outputs": [],
   "source": [
    "def get_code_list(s:str):\n",
    "    l = []\n",
    "    # populate the list \n",
    "    return l  "
   ]
  },
  {
   "cell_type": "markdown",
   "id": "9975237a-5088-41e8-97ae-83dd0e92c160",
   "metadata": {},
   "source": [
    "## Exercise 4\n",
    "Complete the following function such that, given a dictionary similar to that returned by `get_alphabeth_dictionary`, it returns a dictionary with the values raised to the power of 2.\n",
    "As an example, if the argument dictionary is `d1 = {'A': 1,'B': 2}` it must return `d2 = {'A':1,'B':4}`. Hint: use comprehension to generate the new dictionary."
   ]
  },
  {
   "cell_type": "code",
   "execution_count": null,
   "id": "1b7b9a2d-d258-43ce-83c5-bc3966ddd2d2",
   "metadata": {},
   "outputs": [],
   "source": [
    "def get_squared_codes(d:dict):\n",
    "    '''\n",
    "    Generates and returns a dictionary with the same keys as d and the values raised to the power of 2.\n",
    "    '''\n"
   ]
  },
  {
   "cell_type": "markdown",
   "id": "529179d0-d34a-4e8d-a9b1-24ff5c79b0eb",
   "metadata": {},
   "source": [
    "## Exercise 5\n",
    "Consider a network consisting of $N$ nodes. There are arcs for each pair of nodes. \n",
    "There is no arc between the node and itself, e.g., no arc from $3$ to $3$.\n",
    "Complete the following function in order to return the list of arcs, given the number of nodes. \n",
    "Each arc must be represented as a tuple."
   ]
  },
  {
   "cell_type": "code",
   "execution_count": null,
   "id": "1138ffcc-97f6-4111-bea6-61a41dff6eca",
   "metadata": {},
   "outputs": [],
   "source": [
    "def generate_arcs(n_nodes:int):\n",
    "    '''\n",
    "    Generates and returns the list of arcs as tuples.\n",
    "    '''"
   ]
  },
  {
   "cell_type": "markdown",
   "id": "c3169820-2214-43ef-83a2-724fbbab1999",
   "metadata": {},
   "source": [
    "## Exercise 6\n",
    "Consider a network consisting of $N$ nodes. There are arcs only between the nodes that are both odd or both even. \n",
    "For example, there will be an arc between $1$ and $3$, an arc between $2$ and $4$, but not between $7$ and $2$. \n",
    "Also, there is no arc between the node and itself, e.g., no arc from $3$ to $3$.\n",
    "Complete the following function in order to return the list of arcs, given the number of nodes. \n",
    "Each arc must be represented as a tuple."
   ]
  },
  {
   "cell_type": "code",
   "execution_count": null,
   "id": "d94f1cfb-1720-4702-85c9-54c7d92ddeef",
   "metadata": {},
   "outputs": [],
   "source": [
    "def generate_arcs(n_nodes:int):\n",
    "    '''\n",
    "    Generates and returns the list of arcs as tuples.\n",
    "    '''"
   ]
  },
  {
   "cell_type": "markdown",
   "id": "6f5fbc7e-f63a-47a4-82d3-3a7ceb32d0b7",
   "metadata": {},
   "source": [
    "## Exercise 7\n",
    "\n",
    "Complete the code below to write a class representing rectangles."
   ]
  },
  {
   "cell_type": "code",
   "execution_count": null,
   "id": "01630bc0-8d42-4ed3-b179-7401d78f995e",
   "metadata": {},
   "outputs": [],
   "source": [
    "class Rectangle:\n",
    "\n",
    "    def __init__(self, length:float, height: float):\n",
    "        '''\n",
    "        Builds a rectangle given its length and height.\n",
    "        '''\n",
    "\n",
    "    def get_perimeter(self):\n",
    "        '''\n",
    "        :returns the perimeter of the rectangle\n",
    "        '''\n",
    "    \n",
    "    def get_area(self):\n",
    "        '''\n",
    "        :returns the area of the rectangle\n",
    "        '''\n",
    "\n",
    "    def scale(self, scalar:float):\n",
    "        '''\n",
    "        Multiplies the dimensions of the rectangle by the scalar passed as an argument.\n",
    "        '''"
   ]
  },
  {
   "cell_type": "markdown",
   "id": "8c58f80c-402e-49b7-a60c-1d96d2f7e74a",
   "metadata": {},
   "source": [
    "## Exercise 8\n",
    "\n",
    "Complete the code below to write a class representing circles.\n",
    "Pay particular attention at the constant $\\pi$. How do you code it? "
   ]
  },
  {
   "cell_type": "code",
   "execution_count": null,
   "id": "627b643d-13a6-444f-8566-a2e415c0c8b6",
   "metadata": {},
   "outputs": [],
   "source": [
    "class Circle:\n",
    "\n",
    "    def __init__(self, radius:float):\n",
    "        '''\n",
    "        Builds a circle given its radius.\n",
    "        '''\n",
    "\n",
    "    def get_circumference(self):\n",
    "        '''\n",
    "        :returns the circumference of the circle\n",
    "        '''\n",
    "    \n",
    "    def get_area(self):\n",
    "        '''\n",
    "        :returns the area of the circle\n",
    "        '''\n",
    "\n",
    "    def scale(self, scalar:float):\n",
    "        '''\n",
    "        Multiplies the radius by the scalar passed as an argument.\n",
    "        '''"
   ]
  }
 ],
 "metadata": {
  "kernelspec": {
   "display_name": "Python 3 (ipykernel)",
   "language": "python",
   "name": "python3"
  },
  "language_info": {
   "codemirror_mode": {
    "name": "ipython",
    "version": 3
   },
   "file_extension": ".py",
   "mimetype": "text/x-python",
   "name": "python",
   "nbconvert_exporter": "python",
   "pygments_lexer": "ipython3",
   "version": "3.8.13"
  }
 },
 "nbformat": 4,
 "nbformat_minor": 5
}
